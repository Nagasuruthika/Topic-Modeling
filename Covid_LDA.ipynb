{
  "nbformat": 4,
  "nbformat_minor": 0,
  "metadata": {
    "colab": {
      "name": "Covid-LDA.ipynb",
      "provenance": [],
      "authorship_tag": "ABX9TyOoNJxNyftpEVf0UfNauesx",
      "include_colab_link": true
    },
    "kernelspec": {
      "name": "python3",
      "display_name": "Python 3"
    }
  },
  "cells": [
    {
      "cell_type": "markdown",
      "metadata": {
        "id": "view-in-github",
        "colab_type": "text"
      },
      "source": [
        "<a href=\"https://colab.research.google.com/github/Namyalg/Topic-Modeling/blob/master/Covid_LDA.ipynb\" target=\"_parent\"><img src=\"https://colab.research.google.com/assets/colab-badge.svg\" alt=\"Open In Colab\"/></a>"
      ]
    },
    {
      "cell_type": "code",
      "metadata": {
        "id": "KkW5d_4xR_pF",
        "colab_type": "code",
        "colab": {
          "base_uri": "https://localhost:8080/",
          "height": 119
        },
        "outputId": "16107fd9-e41d-4148-9fba-93bb264d29a6"
      },
      "source": [
        "import nltk\n",
        "nltk.download(\"stopwords\")\n",
        "nltk.download(\"wordnet\")\n",
        "nltk.download(\"punkt\")\n",
        "from nltk.corpus import stopwords\n",
        "from nltk.stem.wordnet import WordNetLemmatizer\n",
        "import string\n",
        "stop = set(stopwords.words('english'))"
      ],
      "execution_count": 1,
      "outputs": [
        {
          "output_type": "stream",
          "text": [
            "[nltk_data] Downloading package stopwords to /root/nltk_data...\n",
            "[nltk_data]   Unzipping corpora/stopwords.zip.\n",
            "[nltk_data] Downloading package wordnet to /root/nltk_data...\n",
            "[nltk_data]   Unzipping corpora/wordnet.zip.\n",
            "[nltk_data] Downloading package punkt to /root/nltk_data...\n",
            "[nltk_data]   Unzipping tokenizers/punkt.zip.\n"
          ],
          "name": "stdout"
        }
      ]
    },
    {
      "cell_type": "code",
      "metadata": {
        "id": "YOPVNTJNRYFS",
        "colab_type": "code",
        "colab": {
          "base_uri": "https://localhost:8080/",
          "height": 51
        },
        "outputId": "9d006728-59e9-424d-9d9b-f44a1513dd83"
      },
      "source": [
        "nltk.download('wordnet')\n",
        "exclude = set(string.punctuation)\n",
        "lemma = WordNetLemmatizer()\n"
      ],
      "execution_count": 2,
      "outputs": [
        {
          "output_type": "stream",
          "text": [
            "[nltk_data] Downloading package wordnet to /root/nltk_data...\n",
            "[nltk_data]   Package wordnet is already up-to-date!\n"
          ],
          "name": "stdout"
        }
      ]
    },
    {
      "cell_type": "code",
      "metadata": {
        "id": "_l-JBQkMgY9w",
        "colab_type": "code",
        "colab": {}
      },
      "source": [
        "import csv\n",
        "from csv import reader\n",
        "tit = []\n",
        "with open(\"/content/COVID-19_title.csv\", 'r') as read_obj:\n",
        "    # pass the file object to reader() to get the reader object\n",
        "    csv_reader = reader(read_obj)\n",
        "    # Iterate over each row in the csv using reader object\n",
        "    for row in csv_reader:\n",
        "        # row variable is a list that represents a row in csv\n",
        "        tit.append(row)"
      ],
      "execution_count": 3,
      "outputs": []
    },
    {
      "cell_type": "code",
      "metadata": {
        "id": "JS-B-eVkgyPK",
        "colab_type": "code",
        "colab": {
          "base_uri": "https://localhost:8080/",
          "height": 34
        },
        "outputId": "891e4804-32e3-48c9-c715-787bd7fe595b"
      },
      "source": [
        "print(len(tit))"
      ],
      "execution_count": 4,
      "outputs": [
        {
          "output_type": "stream",
          "text": [
            "242108\n"
          ],
          "name": "stdout"
        }
      ]
    },
    {
      "cell_type": "code",
      "metadata": {
        "id": "7vEk3KKug0D7",
        "colab_type": "code",
        "colab": {
          "base_uri": "https://localhost:8080/",
          "height": 54
        },
        "outputId": "881c2b50-a0d0-4417-f9c7-274f24f42f2f"
      },
      "source": [
        "print(tit[:1000])"
      ],
      "execution_count": 5,
      "outputs": [
        {
          "output_type": "stream",
          "text": [
            "[['clinical features culture-proven mycoplasma pneumoniae infections king abdulaziz university hospital jeddah saudi arabia'], ['nitric oxide pro-inflammatory mediator lung diseas'], ['surfactant protein-d pulmonary host defens'], ['role endothelin-1 lung diseas'], ['gene expression epithelial cells response pneumovirus infect'], ['sequence requirements strand transfer nidovirus discontinuous subgenomic synthesi'], ['debate transfusing normal haemoglobin levels improve outcom'], ['21st international symposium intensive care emergency medicine brussels belgium 20-23 march 2001'], ['heme oxygenase-1 carbon monoxide pulmonary medicin'], ['technical description rods real-time public health surveillance system'], ['conservation polyamine regulation translational frameshifting yeast mamm'], ['heterogeneous nuclear ribonucleoprotein regulates synthesis cytoplasmic virus'], ['method identify domain interacting protein'], ['vaccinia virus infection disrupts microtubule organization centrosome funct'], ['site origin 1918 influenza pandemic public health impl'], ['multi-faceted multi-versatile microarray simultaneous detection many viruses expression profil'], ['herpes simplex virus type normal protein permeability lungs critically patients case pathogen'], ['logistics community smallpox control contact tracing ring vaccination stochastic network model'], ['protection pulmonary epithelial cells oxidative stress hmyh adenine glycosylas'], ['bioinformatic mapping alkb homology domains virus'], ['managing emerging infectious diseases federal system impediment effective law'], ['protein secretion lactococcus lactis efficient increase overall heterologous protein product'], ['detection characterization horizontal transfers prokaryotes using genomic signatur'], ['comparisons substitution insertion deletion probes resequencing mutational analysis using oligonucleotide microarray'], ['gene encoding sialic-acid-specific 9-o-acetylesterase found human adult testi'], ['role mast cells pathogenesis pain chronic pancreat'], ['recombination every abundant recombination virus single multi-cellular host infect'], ['torsional restraint twist frameshifting pseudoknot'], ['correcting errors synthetic consensus shuffl'], ['towards standardization quality assessment using user-independent classifiers microcapillary electrophoresis trac'], ['factors affecting translation programmed ribosomal frameshifting site cocksfoot mottle virus vivo'], ['australian public health policy 2003 2004'], ['gideon comprehensive web-based resource geographic medicin'], ['globalization health'], ['polysemous codon codon multiple amino acid assignment caused dual specificity trna ident'], ['universal bmv-based recombination system—how search general rules recombin'], ['neutrophil elastase acid-independent serine protease facilitates reovirus uncoating infection u937 promonocyte cel'], ['influence locked nucleic acid residues thermodynamic properties 2′-o-methyl rna/rna heteroduplex'], ['draft versus finished sequence data protein diagnostic signature develop'], ['ontology immune epitopes application design broad scope database immune react'], ['evaluation potential reference genes real-time rt-pcr studies atlantic salmon'], ['fierce creatur'], ['relevance human metapneumovirus exacerbations copd'], ['bioethical implications globalization international consortium project european commiss'], ['public awareness risk factors cancer among japanese general population population-based survey'], ['sequence specific visual detection lamp reactions addition cationic polym'], ['injection drug hiv/aids china review current situation prevention policy impl'], ['development humanized monoclonal antibody therapeutic potential west nile virus'], ['local public health workers perceptions toward responding influenza pandem'], ['pandemics duty care whose duty car'], ['epicatechins purified green camellia sinensis differentially suppress growth gender-dependent human cancer cell lin'], ['markers exacerbation severity chronic obstructive pulmonary diseas'], ['scientific abstract'], ['society general internal medicine 28th annual meeting orleans 11–14 2005 chaos critical role generalists abstracts submissions accepted presentatioin'], ['clinical vignett'], ['clinical vignett'], ['abstract'], ['clinical vignett'], ['differentially profiling low-expression transcriptomes human hepatoma using novel ssh/microarray approach'], ['from functional genomics functional immunomics challenges problems reward'], ['transmission patterns smallpox systematic review natural outbreaks europe north america since world'], ['reliability case definitions public health surveillance assessed round-robin test methodolog'], ['ventilator associated pneumonia infection control'], ['sentinel surveillance human enterovirus sarawak malaysia lessons first year'], ['26th international symposium intensive care emergency medicine 21–24 march 2006 brussels belgium'], ['model-based design growth-attenuated virus'], ['delivery systems direct application sirnas induce interference rnai vivo'], ['electrochemical molecular analysis without nucleic acid amplif'], ['identification participants rainbow trout oncorhynchus mykiss oocyte maturation ovulation processes using cdna microarray'], ['object simulation model modeling hypothetical disease epidemics epiflex'], ['multiplexed genetic analysis using expanded genetic alphabet'], ['antisense-induced ribosomal frameshift'], ['gene archaeal α-l-fucosidase expressed translational frameshift'], ['role helicases hiv-1 repl'], ['mimox tool phage display based epitope map'], ['endogenous cell repair chronic demyelin'], ['automated identification multiple micro-organisms resequencing microarray'], ['molecular dynamics simulations human formula text role modified bases mrna recognit'], ['novel endonuclease post-pcr genotyping system'], ['pandemic influenza preparedness ethical framework guide decision-mak'], ['open lung biopsy early-stage acute respiratory distress syndrom'], ['association host selectivity multi-host pathogen'], ['effectiveness contact tracing emerging epidem'], ['waiting time inter-country spread pandemic influenza'], ['neutralizing antibody fails impact course ebola virus infection monkey'], ['public health preparedness alberta systems-level studi'], ['immunoregulatory allergy-associated cytokines aetiology otitis media effus'], ['bench-to-bedside review critical illness-associated cognitive dysfunction mechanisms markers emerging therapeut'], ['procat data analysis approach protein microarray'], ['positional clustering improves computational binding site detection identifies novel cis-regulatory sites mammalian gaba receptor subunit gen'], ['transmissibility highly pathogenic avian influenza commercial poultry industrialised countri'], ['influenza pandemic preparedness planning tool influsim'], ['immune pathways defence mechanisms honey bees apis mellifera'], ['elad deubiquitinating protease expressed coli'], ['mutational analysis human ceacam1 potential receptor polymorphism increasing host susceptibility bacterial infect'], ['immune reconstitution inflammatory syndrome iris review common infectious manifestations treatment opt'], ['global surveillance emerging influenza virus genotypes mass spectrometri'], ['transmission parameters 2001 foot mouth epidemic great britain'], ['efficient replication pneumonia virus mice mouse macrophage cell lin'], ['designing conducting tabletop exercises assess public health preparedness manmade naturally occurring biological threat'], ['transcript-level annotation affymetrix probesets improves interpretation gene expression data'], ['selective redox regulation cytokine receptor signaling extracellular thioredoxin-1'], ['screen isg15-crossreactive deubiquitinas'], ['s-rt-melt rapid mutation scanning using enzymatic selection real time dna-melting potential multiplex genetic analysi'], ['rapid identification malaria vaccine candidates based α-helical coiled coil protein motif'], ['flugenome tool genotyping influenza virus'], ['influenza pandemic intervention planning using influsim pharmaceutical non- pharmaceutical intervent'], ['vaccines protozoan parasites advances challeng'], ['estimating individual household reproduction numbers emerging epidem'], ['natural killer cells promote early cell responses cytomegalovirus'], ['trojan chicken study minnesota'], ['restriction zoonotic perv transmission human apobec3g'], ['experimental infection h5n1 hpai balb/c mic'], ['prediction pseudoknots using heuristic modeling mapping sequential fold'], ['cell-penetrating peptides transporters morpholino oligomers effects amino acid composition intracellular delivery cytotox'], ['lost world functional genomics systems biology translational research there life milstein award'], ['electrospray ionisation-cleavable tandem nucleic acid mass tag–peptide nucleic acid conjugates synthesis applications quantitative genomic analysis using electrospray ionisation-ms/m'], ['hairpin structure within 3′utr polymerase mrna acts post-transcriptional regulatory element interacts hax-1'], ['global public goods global health agenda problems priorities potenti'], ['outcome paediatric intensive care survivor'], ['evaluation comparative genome sequencing comparing previously-sequenced bacterial genom'], ['antibody-based hiv-1 vaccines recent developments future directions summary report global vaccine enterprise working group'], ['host gene expression profiling dengue virus infection cell lines pati'], ['species-specific evolution immune receptor tyrosine based activation motif-containing ceacam1-related immune receptor'], ['nucleolus fascinating nuclear bodi'], ['antidiabetes anti-obesity activity lagerstroemia speciosa'], ['transmissibility influenza virus 1918 pandem'], ['surfactant therapy acute respiratory failure children systematic review meta-analysi'], ['clinical review update avian influenza infections human'], ['clinical review mass casualty triage pandemic influenza critical car'], ['avian influenza outbreak turkey health personnel views qualitative studi'], ['influenza activity europe eight seasons 1999–2007 evaluation indicators used measure activity assessment timing length course peak activity spread across europ'], ['diagnosis treatment severe sepsi'], ['simian virus vectors pulmonary gene therapi'], ['role receptor polymorphism glycosylation syncytium induction host range variation ecotropic mouse gammaretrovirus'], ['presence structure alters programmed ribosomal frameshift efficiency human immunodeficiency virus type hiv-1 modifying rate translation initi'], ['establishing nationwide emergency department-based syndromic surveillance system better public health responses taiwan'], ['amino acid similarity accounts cell cross-reactivity holes cell repertoir'], ['distinguishing molecular features clinical characteristics putative rhinovirus species human rhinovirus'], ['epithelial cell apoptosis neutrophil recruitment acute lung injury—a unifying hypothesis what have learned small interfering rna'], ['cucumovirus gene drives selection inter-viral recombinants affecting crossover site acceptor rate select'], ['epigrass tool study disease spread complex network'], ['autoimmune cholangitis sjl/j mouse antigen non-specif'], ['crosse virus infectivity pathogenesis immunogenicity mice monkey'], ['intrinsically disordered c‐terminal domain measles virus nucleoprotein interacts c‐terminal domain phosphoprotein distinct sites remains predominantly unfold'], ['survey knowledge attitudes practices towards avian influenza adult population itali'], ['evolution human influenza viruses 1999 2006 complete genome studi'], ['presumed consent justify duty treat infectious diseases analysi'], ['improved production human type procollagen yeast pichia pastoris shake flasks wireless-controlled fed-batch system'], ['hmgb1 endogenous danger sign'], ['quantitative measurement thyroglobulin mrna peripheral blood patients total thyroidectomi'], ['functional analysis genomic sequence bovine norovirus'], ['preliminary findings randomized trial non-pharmaceutical interventions prevent influenza transmission household'], ['real time bayesian estimation epidemic potential emerging infectious diseas'], ['detectiv visualization normalization significance testing pathogen-detection microarray data'], ['expression foot-and-mouth disease virus capsid proteins silkworm-baculovirus expression system utilization subunit vaccin'], ['effect network mixing patterns epidemic dynamics efficacy disease contact trac'], ['general practice pandemic influenza framework planning comparison plans five countri'], ['apoptotic signals induce specific degradation ribosomal yeast'], ['moraxella adhesin uspa1 binds human ceacam1 receptor deformable trimeric coiled-coil'], ['virus adaptation manipulation host gene express'], ['deletion human metapneumovirus m2-2 increases mutation frequency attenuates growth hamst'], ['longer innocent bystander epithelial toll-like receptor signaling development mucosal inflamm'], ['ubiquitination required effective replication coxsackievirus'], ['professional home-made face masks reduce exposure respiratory infections among general popul'], ['oct-4 expression maintained cancer stem-like properties lung cancer-derived cd133-positive cel'], ['early transcriptional response jejunum germ-free piglets oral infection virulent rotavirus'], ['gatekeepers health qualitative assessment child care centre staff perspectives practices challenges enteric illness prevention management child care centr'], ['dating time viral subtype diverg'], ['discovery development toll-like receptor tlr4 antagonists paradigm treating sepsis other diseas'], ['multiplex cytokine profile dengue patients mip-1beta ifn-gamma predictive factors sever'], ['temporal trends discovery human virus'], ['investigating selection viruses statistical alignment approach'], ['seasonality influenza h3n2 virus hong kong perspective 1997–2006'], ['h5n1 1918 pandemic influenza virus infection results early excessive infiltration macrophages neutrophils lungs mic'], ['patterns positive selection mammalian genom'], ['mathematical analysis copy number variation sample using digital nanofluidic devic'], ['geosimulation west nile virus propagation multi-agent climate sensitive tool risk management public health'], ['alternative medicines aids resource-poor settings insights exploratory anthropological studies asia africa'], ['evolutionary transmission dynamics reassortant h5n1 influenza virus indonesia'], ['endothelial cells support persistent gammaherpesvirus infect'], ['analysis synonymous codon usage evolution begomovirus'], ['animal models acute lung injuri'], ['intrapulmonary administration recombinant activated factor diffuse alveolar haemorrhage report case stori'], ['activation unfolded protein response required defenses bacterial pore-forming toxin vivo'], ['composition function haemolymphatic tissues european common shrew'], ['prevention cytotoxic cell escape using heteroclitic subdominant viral cell determin'], ['hiv-specific t-cells accumulate liver hcv/hiv co-infect'], ['multiorgan failure hemophagocytic syndrome case report'], ['studying copy number variations using nanofluidic platform'], ['analysis hospital preparedness capacity public health emergency four regions china beijing shandong guangxi hainan'], ['molecular evidence evolution ichnoviruses ascoviruses symbiogenesi'], ['nasal delivery adenovirus-based vaccine bypasses pre-existing immunity vaccine carrier improves immune response mic'], ['screening pneumonia patients mimivirus'], ['resource allocation influenza pandem'], ['polyomavirus infection children germani'], ['factors influencing psychological distress disease epidemic data australia first outbreak equine influenza'], ['influenza virus inhibits type signaling nf-κb-dependent induction socs-3 express'], ['biodefense versus bioterror'], ['role splenic myeloid ifn-αβ response adenoviruses vivo'], ['hemorrhagic shock encephalopathy syndrome markers early hses diagnosi'], ['unifying evolutionary thermodynamic information folding multiple align'], ['sensitive array-based assay identifying multiple tmprss2 fusion gene vari'], ['delivery steric block morpholino oligomers r-x-r peptides structure–activity studi'], ['immune mechanisms responsible vaccination clearance mucosal lymphatic norovirus infect'], ['self-interest versus group-interest antiviral control'], ['cross-subtype immunity avian influenza persons recently vaccinated influenza'], ['human bocavirus infections hospitalized children adult'], ['pandemic influenza planning united states health disparities perspect'], ['conflict emerging infectious diseas'], ['global distribution novel rhinovirus genotyp'], ['cost effective strategies completing interactom'], ['augmented lung inflammation protects influenza pneumonia'], ['novel peptide enhances therapeutic efficacy liposomal anti-cancer drugs mice models human lung canc'], ['il-1β il-6 rantes biomarkers chikungunya sever'], ['avian influenza should china alarm'], ['rift valley fever virus protein promotes post-transcriptional downregulation protein kinase inhibits eif2α phosphoryl'], ['influenza virus h5n1 live bird markets food markets thailand'], ['antimicrobial antioxidant activities cortex magnoliae officinalis medicinal plants commonly used south-east asia'], ['results from hypothesis generating case-control study herpes family viruses schizophrenia among military personnel'], ['sars-cov lessons global health'], ['science policy preparing pandemic influenza'], ['smallpox season reanalysis historical data'], ['chinese journals guide epidemiologist'], ['complete genome proteome laribacter hongkongensis reveal potential mechanisms adaptations different temperatures habitat'], ['malignant mesothelioma'], ['antiviral resistance pandemic influenza implications stockpiling drug'], ['transmission dynamics prospects elimination canine rabi'], ['detection genetically modified organisms gmos using isothermal amplification target sequ'], ['multivalent vaccination protects highly pathogenic h5n1 avian influenza infection chickens mic'], ['virus-specific read-through codon preference affects infectivity chimeric cucumber green mottle mosaic viruses displaying dengue virus epitop'], ['enhanced hygiene measures norovirus transmission outbreak'], ['polyomaviruses immunocompromised patients respiratory diseas'], ['significance surfactant protein-a within human lung'], ['proteolytic processing precursor protein growth-promoting peptide subtilisin serine protease arabidopsi'], ['protein domain boundary predictions structural biology perspect'], ['scientific abstract'], ['international course emerging viruses amazon region'], ['enhancing time-series detection algorithms automated biosurveil'], ['molecular mechanisms recombination restriction envelope gene human immunodeficiency virus'], ['avian influenza virus glycoproteins restrict virus replication spread human airway epithelium temperatures proximal airway'], ['multidimensional classification public health activity australia'], ['small interfering targeting gene induces effective long term inhibition influenza virus repl'], ['increased expression levels pvcrt-o pvmdr1 genes patient severe plasmodium vivax malaria'], ['health workers views quality prevention mother-to-child transmission postnatal care hiv-infected women children'], ['inhibition lassa virus glycoprotein cleavage multicycle replication site protease-adapted -antitrypsin vari'], ['virhostnet knowledge base management analysis proteome-wide virus–host interaction network'], ['rfam updates families databas'], ['respiratory enterovirus recombinant rhinoviruses among circulating picornavirus'], ['low-cost hiv-1 diagnosis quantification dried blood spots real tim'], ['statistical framework adaptive management epidemiological intervent'], ['bench-to-bedside review angiopoietin signalling critical illness future target'], ['mapping sequence mutations 2009 h1n1 influenza virus neuraminidase relative drug antibody binding sit'], ['development taqman fluorescent real-time assay detection anatid herpesvirus'], ['role nitric oxide management acute respiratory distress syndrom'], ['avian influenza iceberg'], ['y271 i274 amino acids reverse transcriptase human immunodeficiency virus-1 critical protein st'], ['cvtree update newly designed phylogenetic study platform using composition vectors whole genom'], ['remission invasive cancer stem-like glioblastoma xenografts using lentiviral vector-mediated suicide gene therapi'], ['microarray based approach identification common foodborne virus'], ['risk multiple sclerosis related biography immune system'], ['evidence recombination genetic diversity human rhinoviruses children acute respiratory infect'], ['poster exhibit'], ['reading chest radiographs critically part radiography lung pathologies common pati'], ['cytomegalovirus infection critically patients systematic review'], ['heliox reduces respiratory system resistance respiratory syncytial virus induced respiratory failur'], ['regulation apoptosis-inducing kinase drak2 cyclooxygenase-2 colorectal canc'], ['rooting human parechovirus evolution tim'], ['hiv/aids prevention china challenge millennium'], ['emerging zoonotic diseases opportunity apply concepts nidality one-medicin'], ['disease ecology global emergence zoonotic pathogen'], ['globalization emerging governance mod'], ['generation characterization novel human iras monoclonal antibodi'], ['molecular physiologic basis quinoline drug resistance plasmodium falciparum malaria'], ['interaction between humans poultry rural cambodia'], ['bird migration routes risk pathogen dispersion western mediterranean wetland'], ['prolonged extracorporeal membrane oxygenation therapy severe acute respiratory distress syndrome child affected rituximab-resistant autoimmune hemolytic anemia case report'], ['regulated ire1-dependent decay messenger rnas mammalian cel'], ['empirical relationship intra-purine intra-pyrimidine differences conserved gene sequ'], ['willingness hong kong healthcare workers accept pre-pandemic influenza vaccination different alert levels questionnaire survey'], ['evolutionarily conserved herpesviral protein interaction network'], ['insertion/deletion polymorphism angiotensin converting enzyme gene kawasaki diseas'], ['differential regulation type interferon epidermal growth factor pathways human respirovirus virulence factor'], ['host type interferon response induced cytosolic sensing bacterial second messenger cyclic-di-gmp'], ['gene expression profiling cells enhanced γ-secretase act'], ['bayesian phylogeography finds root'], ['model repository models infectious disease agent studi'], ['escape autologous neutralizing antibodies acute/early subtype hiv-1 infection requires multiple pathway'], ['crystal structure n-acetylmannosamine kinase domain'], ['increased host species diversity decreased prevalence nombre virus'], ['chinese-like strain porcine epidemic diarrhea virus thailand'], ['optimism/pessimism health-related quality life pregnancy across three continents matched cohort study china ghana united st'], ['emerging technologies detection rabies virus challenges hopes 21st centuri'], ['ducks trojan horses h5n1 influenza'], ['non-hemagglutinating flaviviruses molecular mechanisms emergence strains adaptation european tick'], ['diagnosis management drug-associated interstitial lung diseas'], ['primary biliary cirrhosi'], ['orma tool identification species-specific variations rrna gene oligonucleotides design'], ['initial psychological responses influenza h1n1 swin'], ['managing complex adaptive systems motivated biosystems application infect'], ['prevalence human herpesvirus antibodies allogeneic stem cell transplant patients two-year single centre experi'], ['infection primary avian tracheal epithelial cells infectious bronchitis virus'], ['using dynamic stochastic modelling estimate population risk factors infectious disease example popul'], ['multiplex primer prediction software divergent target'], ['short-hairpin rnas delivered lentiviral vector transduction trigger rig-i-mediated activ'], ['early diversification influenza a/h1n1pdm'], ['immunoglobulin superfamily virus receptors evolution adaptive immun'], ['peptide-mediated cellular delivery oligonucleotide-based therapeutics vitro quantitative evaluation overall efficacy employing easy handle reporter system'], ['human pregnancy-associated malaria-specific cells target polymorphic conformational epitopes var2csa'], ['optaids project towards global halting hiv/aid'], ['early assessment anxiety behavioral response novel swine-origin influenza h1n1'], ['accurate noise projection reduced stochastic epidemic model'], ['comparison distance measures spatial analytical modeling health service plan'], ['evaluation five decontamination methods filtering facepiece respir'], ['antiviral activity some plants used nepalese traditional medicin'], ['predicting intention treat hiv-infected patients among tanzanian sudanese medical dental students using theory planned behaviour cross sectional studi'], ['pattern recognition receptor–dependent mechanisms acute lung injuri'], ['exposure cats doses felv seroconversion sole parameter infect'], ['large accurate collection peptidase cleavages merops databas'], ['efficient assembly secretion recombinant subviral particles four dengue serotypes using native protein'], ['breaking waves modelling potential impact public health measures defer epidemic peak novel influenza a/h1n1'], ['european hedgehogs hosts borrelia spp. germani'], ['expression protein murine norovirus translation termination-reinitiation strategi'], ['interaction hiv-1 frameshift signal ribosom'], ['outdoor environments human pathogen'], ['combination strategies pandemic influenza response systematic review mathematical modeling studi'], ['shine effects ultraviolet radiation invasive pneumococcal disease risk philadelphia pennsylvania'], ['listeriolysin necessary sufficient induce autophagy listeria monocytogenes infect'], ['definition mafa-a haplotypes pedigreed cynomolgus macaques macaca fasciculari'], ['vitro viability cytotoxicity testing same-well multi-parametric combinations high throughput screen'], ['relapsing macrophage activating syndrome 15-year-old girl still disease case report'], ['multiple lung abscesses acinetobacter infection case report'], ['novel anti-mycobacterial function mitogen-activated protein kinase phosphatase-1'], ['localization low-density detergent-resistant membrane proteins intact acrosome-reacted mouse sperm'], ['global expression profiling epileptogenesis does confus'], ['fluorescence competition assay measurements free energy changes pseudoknot'], ['proteomics analysis nucleolus adenovirus-infected cel'], ['analysis memory cell responses isolation novel monoclonal antibodies neutralizing breadth hiv-1-infected individu'], ['recode-2 design search tools many gen'], ['viralorfeome integrated database generate versatile collection viral orf'], ['clinical review primary influenza viral pneumonia'], ['calculating potential within-flight transmission influenza h1n1'], ['abstracts 11th international congress behavioral medicin'], ['ips-1 essential control west nile virus infection immun'], ['severe malaria case fatal plasmodium knowlesi infection post-mortem findings case report'], ['mathematical modeling effectiveness facemasks reducing spread novel influenza h1n1'], ['correcting actual reproduction number simple method estimate early epidemic growth data'], ['using satellite images environmental changes predict infectious disease outbreak'], ['clinical assessment improved diagnosis bocavirus-induced wheezing children finland'], ['evidence facilitates hiv-1 envelope association gpi-enriched plasma membrane detergent resistant membranes facilitates envelope incorporation onto virions primary cel'], ['novel hla-a*0201 t-cell epitopes avian h5n1 viral nucleoprotein induced specific immune responses mic'], ['anthropogenic factors risk highly pathogenic avian influenza h5n1 prospects spatial-based model'], ['systematic analysis comparison integration disease based human genetic association data mouse genetic phenotypic inform'], ['pneumonitis consequence interferon-ribavirin combination therapy hepatitis review literatur'], ['hiv-related restrictions entry residence stay european region survey'], ['triple combination amantadine ribavirin oseltamivir highly active synergistic drug resistant influenza virus strains vitro'], ['successful treatment hiv-associated multicentric castleman disease multiple organ failure rituximab supportive care case report'], ['attenuated salmonella choleraesuis-mediated rnai targeted conserved regions foot-and-mouth disease virus guinea pigs swin'], ['community acquired methicillin-resistant staphylococcus aureus pneumonia leading rhabdomyolysis case report'], ['binding herpes simplex virus type-1 virions leads induction intracellular signalling absence virus entri'], ['seasonal influenza risk hospital healthcare workers strongly associated household occupational exposures results prospective cohort study berlin germany 2006/07'], ['predicting drug-target interaction networks based functional groups biological featur'], ['intermolecular triplex provides insight structural determinants pseudoknot stimulator ribosomal frameshift'], ['early days food environmental virolog'], ['mitigation approaches combat pandem'], ['encoded groundnut necrosis virus bifunctional enzym'], ['mortality among patients tuberculosis requiring intensive care retrospective cohort studi'], ['comparative efficacy hemagglutinin nucleoprotein matrix protein gene-based vaccination h5n1 influenza mouse ferret'], ['impact contact tracing clustered popul'], ['serological profiling candida albicans protein microarray reveals permanent host-pathogen interplay stage-specific responses candidemia'], ['vaccines developing strategies canc'], ['agonist–stat3 sirna conjugates cell-specific gene silencing enhanced antitumor immune respons'], ['rapid accumulation virulent rift valley fever virus mice attenuated virus carrying single nucleotide substitut'], ['confronting potential influenza h5n1 pandemic better vaccin'], ['global public health secur'], ['dynamics control diseases networks community structur'], ['generation human ceacam1 transgenic mice binding neisseria protein their neutrophil'], ['tuberculous sarcoidosis does exist'], ['dotknot pseudoknot prediction using probability plot refined energy model'], ['risk importing zoonotic diseases wildlife trade united st'], ['architecture nascent viral fusion por'], ['effect vaccination evolution population dynamics avian paramyxovirus-1'], ['china engagement global health diplomacy sars watersh'], ['electron tomography reveals steps filovirus bud'], ['peptide-mediated liposomal drug delivery system targeting tumor blood vessels anticancer therapi'], ['elevation intact proteolytic fragments acute phase proteins constitutes earliest systemic antiviral response hiv-1 infect'], ['synthesis pharmacological evaluation schiff bases 2-aminophenyl -morpholin'], ['proper distance metrics phylogenetic analysis using complete genomes without sequence align'], ['single immunization soluble recombinant trimeric hemagglutinin protects chickens highly pathogenic avian influenza virus h5n1'], ['hospital triage system adult patients using influenza-like illness scoring system 2009 pandemic—mexico'], ['acute encephalopathy associated influenza infection adult'], ['large-scale evolutionary surveillance 2009 h1n1 influenza virus using resequencing array'], ['journals academics pandem'], ['groups spread influenza implications vaccination strategi'], ['effects internal border control spread pandemic influenza'], ['extracorporeal life support management refractory cardiac respiratory failure initial experience tertiary centr'], ['necessary fast testkit mitigation pandem'], ['rotavirus structural proteins dsrna required human primary plasmacytoid dendritic cell ifnα respons'], ['role cd14 lung inflammation infect'], ['non-invasive ventilation critically patients pandemic h1n1 2009 influenza virus infect'], ['immune response lactobacillus plantarum expressing borrelia burgdorferi ospa modulated lipid modification antigen'], ['neutralization r5-tropic hiv-1 nl4-3 variants hocl-modified serum albumin'], ['human pregnancy specific beta-1-glycoprotein psg1 potential role placental vascular morphogenesi'], ['structural optimization novo design dengue virus entry inhibitory peptid'], ['caveolin-1 influences human influenza virus h1n1 multiplication cell cultur'], ['class transactivator ciita enhances cytoplasmic processing hiv-1 pr55gag'], ['computational approaches size-and-shape distributions sedimentation velocity analytical ultracentrifug'], ['extrapulmonary tissue responses cynomolgus macaques macaca fascicularis infected highly pathogenic avian influenza h5n1 virus'], ['using complementary alternative medicines target host response severe influenza'], ['pandemic h1n1 2009 influenza community transmission established australian state when virus first identified north america'], ['radiological clinical characteristics military outbreak pandemic h1n1 2009 influenza virus infect'], ['clathrin independent macropinocytosis-like entry mechanism used bluetongue virus-1 infection cel'], ['assessing human immune system blood transcriptom'], ['regulates pathogenesis neurotropic reovirus'], ['effects pulsed electromagnetic fields human osteoblastlike cells mg-63 pilot studi'], ['virology experts boundary zone between science policy public biographical analysi'], ['human bocaviruses highly diverse dispersed recombination prone prevalent enteric infect'], ['battle virus host modulation toll-like receptor signaling pathways virus infect'], ['pneumonia incidence mortality mainland china systematic review chinese english literature 1985–2008'], ['possible role robustness evolution infectious diseas'], ['isolation characterization microparticles sputum cystic fibrosis pati'], ['antigen incorporation within adenovirus hexon hypervariable novel vaccine approach'], ['model stage liver disease meld score greater predicts length stay mortality liver transplant recipi'], ['angiotensin-converting enzyme autoantibodies evidence role renin-angiotensin system inflamm'], ['role chemokines viral infect'], ['cross-sectional survey evaluate knowledge attitudes practices regarding seasonal influenza vaccination among european travellers resource-limited destin'], ['serodiagnosis echinococcus infection explorative selection diagnostic antigens peptide microarray'], ['protective efficacy cross-reactive cells recognising mutant viral epitopes depends peptide-mhc-i structural interactions cell activation threshold'], ['development symptom score clinical studies identify children with documented viral upper respiratory tract infect'], ['cancer biomarker discovery entropic hallmark'], ['sysgenet meeting report european network systems genet'], ['adaptive contact networks change effective disease infectiousness dynam'], ['role infections pathogenesis course multiple sclerosi'], ['calciomics prediction analysis ef-hand calcium binding proteins protein engin'], ['proteomics comparison cerebrospinal fluid relapsing remitting primary progressive multiple sclerosi'], ['interstitial lung diseases children'], ['predictive power travel socio-economic data early pandemic spread'], ['evolutionary entropy determines invasion success emergent epidem'], ['nature protein domain evolution shaping interaction network'], ['quantitative phosphoproteomics proteasome inhibition multiple myeloma cel'], ['insights evolution emergence novel infectious diseas'], ['role host immune response viral load differential outcome pandemic h1n1 2009 influenza virus infection indian pati'], ['generation human antigen-specific monoclonal antibodies using vaccinated human immune system mic'], ['reflections pandemic h1n1 2009 international respons'], ['development large-scale isolation chamber system safe humane care medium-sized laboratory animals harboring infectious diseas'], ['proteomics challenges techniques possibilities overcome biological sample complex'], ['systematic molecular pathology study laboratory confirmed h5n1 human cas'], ['situational awareness health protective responses pandemic influenza h1n1 hong kong cross-sectional studi'], ['human anti-plague monoclonal antibodies protect mice yersinia pestis bubonic plague model'], ['diagnostic value triggering receptor expressed myeloid cells-1 c-reactive protein patients lung infiltrates observational studi'], ['nodeomics pathogen detection vertebrate lymph nodes using meta-transcriptom'], ['vitro vivo studies identify important features dengue virus pr-e protein interact'], ['alternative splicing cd200 regulated exonic splicing enhancer sf2/asf'], ['efficacy oseltamivir-zanamivir combination compared each monotherapy seasonal influenza randomized placebo-controlled tri'], ['comparison methods purification concentration norovirus gii-4 capsid virus-like particl'], ['urine peptidomic targeted plasma protein analyses diagnosis monitoring systemic juvenile idiopathic arthr'], ['segmented helical structure neck region glycan-binding receptor dc-signr'], ['translation elongation factor facilitates assembly tombusvirus replicase stimulates minus-strand synthesi'], ['calculation information organismal complex'], ['environmental factors preceding illness onset differ phenotypes juvenile idiopathic inflammatory myopathi'], ['quantitative proteomic analysis a549 cells infected human respiratory syncytial virus'], ['network analysis global influenza spread'], ['willingness accept h1n1 pandemic influenza vaccine cross-sectional study hong kong community nurs'], ['development optimized rna-based murine norovirus reverse genetics system'], ['epidemic modeling real time application 2009 novel h1n1 influenza outbreak canada'], ['antiviral neuroprotective role octaguanidinium dendrimer-conjugated morpholino oligomers japanese enceph'], ['severe novel influenza h1n1 infection cancer pati'], ['tennessee children respiratory initiative objectives design recruitment results prospective cohort study investigating infant viral respiratory illness development asthma allergic diseas'], ['eosinophilic infiltrate patient severe legionella pneumonia levofloxacin-related complication case report'], ['functional analysis srv-1 frameshifting pseudoknot'], ['molecular clamp ensures allosteric coordination peptidyltransfer ligand binding ribosomal a-sit'], ['hybridization properties long nucleic acid probes detection variable target sequences development hybridization prediction algorithm'], ['asymmetry presence migration stabilizes multistrain disease outbreak'], ['clinical factors associated severity hospitalized children infected avian influenza h5n1'], ['human monoclonal selection plasmodium falciparum expression placental malaria-specific variant surface antigen'], ['stimulation ribosomal frameshifting antisens'], ['flexible loop yeast ribosomal protein coordinates p-site trna bind'], ['involvement micrornas physiological pathological processes lung'], ['rapid detection pandemic influenza presence seasonal influenza'], ['responses human endothelial cells pathogenic non-pathogenic leptospira speci'], ['porcine adenovirus human seroprevalence promising alternative vaccine vector human adenovirus h5n1 virus disease model'], ['liposome-coupled antigens internalized antigen-presenting cells pinocytosis cross-presented cel'], ['therapeutic vaccination chronic hepatitis preclinical studies woodchuck'], ['human immunome bioinformatic analyses using supermotifs parasite genome binding assays studies human cell responses immunization hla-a*1101 transgenic mice including novel adjuvants provide foundation hla-a03 restricted cell epitope based adjuvanted vaccine protective toxoplasma gondii'], ['conserved epitopes influenza virus inducing protective immunity prospects universal vaccine develop'], ['intracellular dynamic protein palmitoyl'], ['impact gender pregnancy 2009 h1n1 diseas'], ['phever database global exploration virus–host evolutionary relationship'], ['reporting errors infectious disease outbreaks application pandemic influenza a/h1n1'], ['pathological ultrastructural analysis surgical lung biopsies patients swine‐origin influenza type a/h1n1 acute respiratory failur'], ['ventilatory ecmo treatment h1n1-induced severe respiratory failure results italian referral ecmo cent'], ['broadly cross-reactive antibodies dominate human cell response 2009 pandemic h1n1 influenza virus infect'], ['annual symposium society study inborn errors metabol'], ['assessment virally vectored autoimmunity biocontrol strategy cane toad'], ['analysing eosinophil cationic protein clue function eosinophil granulocyt'], ['excess healthcare burden 1918-1920 influenza pandemic taiwan implications post-pandemic prepared'], ['multifunctional nanoparticles simulants gravimetric immunoassay'], ['hepatitis virus associated aplastic anemia recent case pakistan'], ['travel patterns china'], ['spatial dynamics 1918 influenza pandemic england wales united st'], ['charge-surrounded pockets electrostatic interactions small ions modulate activity retroviral fusion protein'], ['tracheostomy mechanical ventilation weaning children affected respiratory virus according weaning protocol pediatric intensive care unit argentina observational restrospective tri'], ['activity hiv-1 ires stimulated oxidative stress controlled negative regulatory el'], ['further characterisation translational termination-reinitiation signal influenza virus seg'], ['bacteriophages molecular diagnosis controls clinical virology comprehensive study more 45,000 routine test'], ['pandemic h1n1 2009 influenza virus h275y oseltamivir resistance neuraminidase mutation shows small compromise enzyme activity viral fit'], ['ketamine inhibits tumor necrosis factor secretion raw264.7 murine macrophages stimulated antibiotic-exposed strains community-associated methicillin-resistant staphylococcus aureus'], ['avipoxviruses infection biology vaccine vector'], ['apolipoprotein gene apom polymorphism modifies metabolic disease traits type diabet'], ['non-invasive microstructure morphology investigation mouse lung qualitative description quantitative measur'], ['evolution size pattern social amoeba'], ['plant plastid engin'], ['role glutathione immunity inflammation lung'], ['complacent population-based public health response first influenza pandemic centuri'], ['gleamviz computational tool publicly available software explore realistic epidemic spreading scenarios global scal'], ['nursing heroism centuri'], ['implications copy number variation people chromosomal abnormalities potential greater variation copy number state contribute variability phenotyp'], ['hepatitis associated aplastic anemia review'], ['factors affecting intention receive self-reported receipt 2009 pandemic h1n1 vaccine hong kong longitudinal studi'], ['dengue virus virulence transmission determin'], ['tylosema esculentum marama tuber bean extracts strong antiviral agents rotavirus infect'], ['sphaeranthus indicus linn phytopharmacological review'], ['autonomous targeting infectious superspreaders using engineered transmissible therapi'], ['screening random peptide library hemagglutinin pandemic 2009 h1n1 influenza virus reveals unexpected antigenically important region'], ['insights defense system structure function clinical relevance complement system'], ['targeting vaccination novel infections risk spatial structure pandemic influenza great britain'], ['networks epidemiology infectious diseas'], ['viral encephalomyel'], ['assessing vitro fitness oseltamivir-resistant seasonal a/h1n1 influenza strain using mathematical model'], ['genomic signatures strain selection enhancement bacillus atrophaeus globigii historical biowarfare simul'], ['differential induction functional using plasmodium falciparum placental malaria vaccine candidate var2csa'], ['severe pneumococcal pneumonia impact quinolones prognosi'], ['generalized maternal optimism pessimism during pregnancy associated unplanned cesarean section deliveries china'], ['vitro gene delivery mediated asialofetuin-appended cationic liposomes associated γ-cyclodextrin hepatocyt'], ['participation cell polarity protein pals1 t-cell receptor-mediated nf-κb activ'], ['canadian critical care trials group project collaboration international forum acute care trialists collaborative h1n1 adjuvant treatment pilot trial chat study protocol design randomized controlled tri'], ['dissection influenza virus endocytic routes reveals macropinocytosis alternative entry pathway'], ['alpha-copi coatomer protein required rough endoplasmic reticulum whorl formation mosquito midgut epithelial cel'], ['interaction specific population human embryonic stem cell–derived progenitor cells cd11b+ cells ameliorates sepsis-induced lung inflammatory injuri'], ['wide prevalence heterosubtypic broadly neutralizing human anti-influenza antibodi'], ['peptide model helices lipid membranes insertion positioning lipid response aggregation studied x-ray scatt'], ['vaccine potential nipah virus-like particl'], ['antibody-mediated universal osteoclast targeting platform using calcitonin model drug'], ['insights modeling structure delhi metallo-β-lactamse binding interactions antibiotic drug'], ['production ifn-β listeria monocytogenes infection restricted monocyte/macrophage lineag'], ['endogenous ribosomal frameshift signals operate mrna destabilizing elements least molecular pathways yeast'], ['time revise paradigm hantavirus syndromes hantavirus pulmonary syndrome caused european hantavirus'], ['antigen-specific monoclonal antibodies isolated cells expressing constitutively active stat5'], ['genomic characterization high prevalence bocaviruses swin'], ['analysis codon usage nucleotide composition bias poliovirus'], ['novel divergent simian hemorrhagic fever viruses wild ugandan colobus monkey discovered using direct pyrosequenc'], ['live bird markets bangladesh h9n2 viruses near absence highly pathogenic h5n1 influenza'], ['monitoring influenza activity united states comparison traditional surveillance systems google trend'], ['monitoring systemic human memory cell compartment melanoma patients anti-tumor antibodi'], ['multifaceted poliovirus protease regulation gene expression picornavirus proteas'], ['transmission potential chikungunya virus control measures case itali'], ['clustering heart rate dynamics associated β-adrenergic receptor polymorphisms analysis information-based similarity index'], ['infection chicken tracheal epithelial cells h6n1 avian influenza virus'], ['classification viral zoonosis receptor pattern analysi'], ['simple inexpensive device nucleic acid amplification without electricity—toward instrument-free molecular diagnostics low-resource set'], ['quantitative subcellular proteome secretome profiling influenza virus-infected human primary macrophag'], ['angiotensin-converting enzyme central regulator cardiovascular funct'], ['potent host-directed small-molecule inhibitors myxovirus rna-dependent rna-polymeras'], ['insight interaction metal ions troa streptococcus sui'], ['complement system'], ['chest imaging features patients afflicted influenza h1n1 malaysian tertiary referral centr'], ['noninvasive ventilation acute respiratory failure h1n1 influenza'], ['temporal anomalies immunological gene expression time series wild mice signature epidem'], ['spliced leader rnas mitochondrial gene frameshifts multi-protein phylogeny expand support genus perkinsus unique group alveol'], ['one-year molecular survey astrovirus infection turkeys poland'], ['approach monitoring dengue act'], ['dynamic variations peripheral blood lymphocyte subgroups patients 2009 pandemic h1n1 swine-origin influenza virus infect'], ['maternal influenza immunization reduced likelihood prematurity small gestational births retrospective cohort studi'], ['role non-formal education combating epidemic philippines taiwan'], ['standardization methods early diagnosis on-site treatment high-altitude pulmonary edema'], ['noninvasive ventilation acute respiratory failure h1n1 influenza word caut'], ['temporal analysis honey microbiome reveals four novel viruses seasonal prevalence known viruses nosema crithidia'], ['evaluation coseasonality influenza invasive pneumococcal disease results prospective surveil'], ['macrophage-mediated optic neuritis induced retrograde axonal transport spike gene recombinant mouse hepatitis virus'], ['non-apical membrane antigen ama1 iggs malian children interfere functional activity ama1 iggs judged growth inhibition assay'], ['hepatitis virus genotype forms core-like particles unique structural properti'], ['in-depth analysis antibody response individuals exposed primary dengue virus infect'], ['spatial temporal characteristics 2009 a/h1n1 influenza pandemic peru'], ['rhinovirus genome variation chronic upper lower respiratory tract infect'], ['gene expression profile chondrogenesis human bone marrow derived mesenchymal stem cells using cdna microarray'], ['identification cytotoxic lymphocyte epitopes porcine reproductive respiratory syndrome virus matrix protein balb/c mic'], ['network clustering revealed systemic alterations mitochondrial protein express'], ['claudins lung diseas'], ['human bocavirus patients respiratory tract infect'], ['seasonal distribution active systemic lupus erythematosus correlation meteorological factor'], ['ceacam1 separates graft-versus-host-disease graft-versus-tumor activity experimental allogeneic bone marrow transplant'], ['programmed death -1-deficient mice extremely sensitive murine hepatitis virus strain-3 mhv-3 infect'], ['machupo virus glycoprotein determinants human transferrin receptor binding cell entri'], ['advent ecmo pumpless extracorporeal lung assist ard'], ['gi-type t4ss-mediated horizontal transfer pathogenicity island epidemic streptococcus suis serotyp'], ['conformation-sensitive monoclonal antibody domain willebrand factor reduces proteolysis adamts13'], ['brief review diagnosis foot-and-mouth disease livestock conventional molecular tool'], ['renewed global partnerships redesigned roadmaps rabies prevention control'], ['interplay sin3a stat3 mediates chromatin conformational changes gfap expression cellular differenti'], ['fertility quality life fertiqol tool development general psychometric properti'], ['long-term respiratory follow-up h1n1 infect'], ['milk lacking α-casein leads permanent reduction body size mic'], ['geometry adhesion extracellular domains dc-signr neck length variants analyzed force–distance measur'], ['global mrna degradation lytic gammaherpesvirus infection contributes establishment viral lat'], ['modified bacteriophage plaque reduction assay rapid screening antiviral plant extract'], ['equal graph partitioning estimated infection network effective epidemic mitigation measur'], ['strengthening systems communicable disease surveillance creating laboratory network rwanda'], ['immunity traits pigs substantial genetic variation limited covari'], ['demographic etiological histological pulmonary analysis patients acute respiratory failure study years autopsi'], ['type interferon induction natural killer cell gamma interferon production defense lymphocytic choriomeningitis virus infect'], ['interaction lfa-1 mononuclear cells icam-1 tubular epithelial cells accelerates tgf-β1-induced renal epithelial-mesenchymal transit'], ['histological study biodynamics iron oxide nanoparticles different diamet'], ['microbial detection array combined random phi29-amplification used diagnostic tool virus detection clinical sampl'], ['cell repertoire analysis identifies antigenic domains glycoprotein human cytomegalovirus target neutralizing antibodi'], ['inflammatory cytokine expression associated chikungunya virus resolution symptom sever'], ['failur'], ['identification highly conserved subtype-specific epitope diagnostic potential hemagglutinin protein influenza virus'], ['stimulation stop codon readthrough frequent presence extended structural el'], ['antigen-expressing immunostimulatory liposomes genetically programmable synthetic vaccin'], ['chinese herbal formula xiao treatment depression systematic review randomized controlled tri'], [\"preventing next 'sars european healthcare workers attitudes towards monitoring health surveillance newly emerging infections qualitative studi\"], ['informational needs assessment non‐hodgkin lymphoma survivors physician'], ['prediction peptide reactivity human ivig knowledge-based approach'], ['description measles outbreaks lazio region italy 2006-2007 importance pockets vaccine coverage sustaining infect'], ['systematic identification novel essential host genes affecting bromovirus repl'], ['unusual association st-t abnormalities myocarditis cardiomyopathy influenza pregnancy case reports review literatur'], ['dominating biological network'], ['neglected disease african sleeping sickness recent synthetic modeling adv'], ['nucleolar localization sequence detector eukaryotic viral protein'], ['avian influenza risk perception preventive behavior among traditional market workers shoppers taiwan practical implications prevent'], ['name greater good'], ['emerging viral threats gabon health capacities response risk emerging zoonotic diseases central africa'], ['poverty global health infectious disease lessons haiti rwanda'], ['forecasting incidence hemorrhagic fever renal syndrome china using arima model'], ['delivery systems intradermal vaccin'], ['recurrent recruitment manoeuvres improve lung mechanics minimize lung injury mechanical ventilation healthy mic'], ['virtual high-throughput screening identifies mycophenolic acid novel capping inhibitor'], ['long-term follow-up treatment congenital alveolar proteinosi'], ['severe influenza cases paediatric intensive care units germany pre-pandemic seasons 2005 2008'], ['next-generation sequencing reveals hiv-1-mediated suppression cell activation processing regulation noncoding expression cell lin'], ['epidemiological clinical characteristics childhood pandemic 2009 h1n1 virus infection observational cohort studi'], ['immunodetection occult eosinophils lung tissue biopsies help predict survival acute lung injuri'], ['overlapping signals translational regulation packaging influenza virus seg'], ['ferret model organism study influenza virus infect'], ['leukocyte- platelet-derived microvesicle interactions following vitro vivo activation toll-like receptor lipopolysaccharid'], ['nkg2d contributes efficient clearance picornavirus acutely infected murine brain'], ['discovery genomic characterization novel ovine partetravirus genotype bovine partetravirus'], ['reconstructing disease outbreaks genetic data graph approach'], ['human bocavirus insights newly identified respiratory virus'], ['plasmacytoid dendritic cells control herpesvirus infect'], ['communicable diseases prioritized surveillance epidemiological research results standardized prioritization procedure germany 2011'], ['vesicular stomatitis virus replicon-based bioassay rapid sensitive determination multi-species type interferon'], ['characterization neutralizing profiles hiv-1 infected patients hj16 hgn194 hk20 mabs obtain'], ['ebv-gp350 confers b-cell tropism tailored exosomes neo-antigen normal malignant cells—a option treatment b-cl'], ['ebola virus glycoprotein hiv-1 employ different strategies counteract antiviral factor tetherin'], ['detection fourth orbivirus non-structural protein'], ['geographic distribution risk factors initial adult hospitalized cases 2009 pandemic influenza h1n1 virus infection mainland china'], ['inferring viral quasispecies spectra pyrosequencing read'], ['ebola virion attachment entry human macrophages profoundly effects early cellular gene express'], ['case-based reported mortality associated laboratory-confirmed influenza h1n1 2009 virus infection netherlands 2009-2010 pandemic season versus 2010-2011 influenza season'], ['chinese herbal formula improve general psychological status posttraumatic stress disorder randomized placebo-controlled trial sichuan earthquake survivor'], ['quercetin 7-rhamnoside reduces porcine epidemic diarrhea virus replication independent pathway viral induced reactive oxygen speci'], ['recombinant adenovirus vectored consensus ifn-α avert severe arenavirus infect'], ['protein disulfide isomerase host-pathogen interact'], ['improved immunological tolerance following combination therapy ctla-4/ig aav-mediated pd-l1/2 muscle gene transf'], ['comparison humoral immune responses epstein-barr virus kaposi sarcoma–associated herpesvirus using viral proteome microarray'], ['stem–loop structures effectively substitute pseudoknot ribosomal frameshift'], ['usefulness published primers detecting human rhinovirus infect'], ['nnalign web-based prediction method allowing non-expert end-user discovery sequence motifs quantitative peptide data'], ['blood cell transfusion critically pati'], ['respiratory support neurally adjusted ventilatory assist nava severe rsv-related bronchiolitis case series report'], ['evaluation approaches identify targets cellular immunity proteome-wide scal'], ['porcine major histocompatibility complex class molecules analysis peptide-binding specif'], ['immunogenetic factors associated severe respiratory illness caused zoonotic h1n1 h5n1 influenza virus'], ['china students crowded dormitories ventilation rate have more common colds evidence airborne transmiss'], ['epidemiology clinical characteristics hospitalized patients pandemic influenza h1n1 2009 infections effects bacterial coinfect'], ['clinical review gene-based therapies ali/ard'], ['critical care services h1n1 2009 influenza epidemic australia zealand 2010 impact second winter epidem'], ['early corticosteroid treatment severe pneumonia caused 2009 h1n1 influenza virus'], ['multinational observational study procalcitonin patients pneumonia requiring mechanical ventilation multicenter observational studi'], ['role receptor advanced glycation endproducts rage infect'], ['metagenomic analysis fever thrombocytopenia leukopenia syndrome ftls henan province china discovery bunyavirus'], ['clinical aspects cytokine response severe h1n1 influenza virus infect'], ['clinical review idiopathic pulmonary fibrosis acute exacerbations unravelling ariadne thread'], ['influence genetic variability surfactant proteins community-acquired pneumonia prospective observational genetic studi'], ['survival influenza h1n1 materials found households implications infection control'], ['respiratory failure presenting h1n1 influenza legionnaires disease case report'], ['agricultural intensification priming persistence emergence nipah virus lethal bat-borne zoonosi'], ['expert assessments converge exploratory case study evaluating managing blood supply risk'], ['noninvasive positive pressure ventilation acute respiratory failure children concise review'], ['pandemic a/h1n1v influenza 2009 hospitalized children multicenter belgian survey'], ['quantitative method specific assessment caspase-6 activity cell cultur'], ['quantifying social distancing arising pandemic influenza'], ['novel inhibitor design hemagglutinin h1n1 influenza virus core hopping method'], ['tamiflu-resistant ha-mediated cell-to-cell transmission apical membranes cell-associated influenza virus'], ['persistent expression hepatitis virus non-structural proteins leads increased autophagy mitochondrial injury human hepatoma cel'], ['neighborhood properties important determinants temperature sensitive mut'], ['missing accounted gaps areas wealth public health review literatur'], ['inhibition interferon induction action nairovirus nairobi sheep disease virus/ganjam virus'], ['human monoclonal antibody neutralizing activity highly divergent influenza subtyp'], ['tissue tropism target cells nss-deleted rift valley fever virus live immunodeficient mic'], ['evaluation internal reference genes quantitative expression analysis real-time ovine whole blood'], ['normal variation thermal radiated temperature cattle implications foot-and-mouth disease detect'], ['cochrane systematic reviews chinese herbal medicines overview'], ['current status immunomodulation immunomediated therapeutic strategies multiple sclerosi'], ['towards cross-lingual alerting bursty epidemic ev'], ['reducing mortality sepsis direct'], ['synergistic roles eukaryotic translation elongation factors stimulation tombusvirus minus-strand synthesi'], ['mannose-binding lectin contributes deleterious inflammatory response pandemic h1n1 avian h9n2 infect'], ['essential epidemiological mechanisms underpinning transmission dynamics seasonal influenza'], ['amiodarone exposure during modest inflammation induces idiosyncrasy-like liver injury rats role tumor necrosis factor-alpha'], ['polyvalent vaccines expressing antigens h5n1 influenza viruses optimized leader sequence elicit cross-protective antibody respons'], ['elm—the database eukaryotic linear motif'], ['epithelial cells derived swine bone marrow express stem cell markers support influenza virus replication vitro'], ['birds stone possible dual-targeting h1n1 inhibitors traditional chinese medicin'], ['synthesis antiviral drug precursor chitin using saprophyte whole-cell catalyst'], ['mrna pseudoknot structures ribosomal roadblock'], ['secretory phospholipase pathway various types lung injury neonates infants multicentre translational studi'], ['transmissibility temporal changes 2009 ph1n1 pandemic summer fall/winter wav'], ['molecular mechanisms inflammation tissue injury major trauma-is compl'], ['predicting biological functions compounds based chemical-chemical interact'], ['identification characterization novel non-structural protein bluetongue virus'], ['interference h-bonding substituent effects nitro- hydroxy-substituted salicylaldehyd'], ['acute respiratory distress syndrome induced swine 2009 h1n1 variant mic'], ['true versus false parasite interactions robust method take risk factors account application feline virus'], ['transmembrane domain ceacam1-4s determinant anchorage independent growth tumorigen'], ['human subtilase ski-1/s1p master regulator lifecycle potential host cell target developing indirect-acting antiviral ag'], ['hmgb1 alarmin promoting dissemination latency dendritic cel'], ['evaluation seeplex® meningitis detection detection common bacterial viral pathogens acute mening'], ['colorphylo color code accurately display taxonomic classif'], ['deconstructing host-pathogen interactions drosophila'], ['organisation ebola virus reveals capacity extensive modular polyploidi'], ['qsar pharmacophore modeling silico screening density functional theory approaches identification human chymase inhibitor'], ['perspectives immunoglobulins colostrum milk'], ['crazy-paving pattern radiological-pathological correl'], ['comparison percutaneous radiofrequency thermal ablation surgical resection small hepatocellular carcinoma'], ['making sense perceptions risk diseases vaccinations qualitative study combining models health beliefs decision-making risk percept'], ['development applications vectors based cell trop'], ['distinct regulation host responses kinases swine macrophages infected pandemic h1n1 2009 influenza virus'], ['international society disease surveillance conference 2011 building future public health surveillance building future public health surveil'], ['rna-seq based transcriptional bovine respiratory disease pathogen histophilus somni 2336'], ['review chemical biological properties cayratia trifolia linn vitacea'], ['molecular mechanism subunit stoichiometry cyclic nucleotide-gated channel'], ['2011 retrovirology prize winner masao matsuoka forward looking antisens'], ['effect modification environmental factors influenza-associated mortality time-series study chinese c'], ['influenza a/h1n1 septic shock patient systemic lupus erythematosus case report'], ['timeliness contact tracing among flight passengers influenza a/h1n1 2009'], ['validation self-swab virologic confirmation influenza virus infections community set'], ['molecular mimicry mechanism autoimmune diseas'], ['usage government healthcare facilities acute respiratory infections guatemala implications influenza surveil'], ['understanding clinical spectrum complicated plasmodium vivax malaria systematic review contributions brazilian literatur'], ['protective role ace2/ang- axis cardiovascular remodel'], ['viral proteins acquired host converge simplified domain architectur'], ['treatment neuroterror'], ['cardiovascular pulmonary therapeutic strategies based angiotensin-converting enzyme 2/angiotensin- /mas receptor axi'], ['unraveling structural complexity single-stranded tail implications efficient ligand binding prequeuosine riboswitch'], ['soluble rage severity marker community acquired pneumonia associated sepsi'], ['virus identification unknown tropical febrile illness cases using deep sequenc'], ['effects non-conservative sequence properties β-glucuronidase aspergillus terreus li-20'], ['protein sequence analysis based hydropathy profile amino acid'], ['filovirus tropism cellular molecules viral entri'], ['replication-competent recombinant porcine reproductive respiratory syndrome prrs viruses expressing indicator proteins antiviral cytokin'], ['co-opted dead-box helicase enhances tombusvirus plus-strand synthesi'], ['transmission infectious diseases route habitat hotspot'], ['dispanins novel gene family ancient origin that contains human memb'], ['health system resource gaps associated mortality pandemic influenza across asian territori'], ['epidemiology viral etiologies severe acute respiratory infections sari northern vietnam'], ['impact different influenza cultivation conditions n-glycosyl'], ['isolation active peptides plant hydrolysates promote vero cells growth stirred cultur'], ['first dating recombination event mammalian tick-borne flavivirus'], ['isothermal amplification using chemical heating device point-of-care detection hiv-1'], ['design management orthopaedic bone bank netherland'], ['dectin-1 dc-sign polymorphisms associated invasive pulmonary aspergillosis infect'], ['lethal nipah virus infection induces rapid overexpression cxcl10'], ['influenza virus respiratory infection transmission following ocular inoculation ferret'], ['placement leucine zipper motifs carboxyl terminus hiv-1 protease significantly reduces virion product'], ['year review intensive care medicine 2011 nephrology epidemiology nutrition therapeutics neurology ethical legal issues experiment'], ['using support vector machine evolutionary profiles predict antifreeze protein sequ'], ['reliability external validity amstar assessing quality systematic review'], ['innate immune response human alveolar macrophages influenza infect'], ['successful treatment chlamydophila pneumoniae acute respiratory distress syndrome extracorporeal membrane oxygenator case report diagnostic review'], ['environmental sampling avian influenza virus h5n1 live-bird markets indonesia'], ['manifesting ecologic microbial connect'], ['influenza refugees thailand–myanmar border may–october 2009'], ['early clinical features dengue virus infection nicaraguan children longitudinal analysi'], ['influenza h1n1 2009 swine pregn'], ['competing pathways control host resistance virus trna modification programmed ribosomal frameshift'], ['evaluation molecular diagnostics pneumonia etiology studi'], ['resveratrol inhibits kshv reactivation lowering levels cellular egr-1'], ['common variants cdkn2b-as1 associated optic-nerve vulnerability glaucoma identified genome-wide association studies japanes'], ['interleukin-18 expression response treatment patients psoriasi'], ['replication enhancer elements within open reading frame tick-borne encephalitis virus evolution within flavivirus genus'], ['both tlr2 trif contribute interferon-β production listeria infect'], ['protein reporter bioassay systems phenotypic screening candidate drugs mouse platform anti-aging drug screen'], ['suppression adenosine-activated chloride transport ethanol airway epithelia'], ['high fidelity processing activation human α-defensin hnp1 precursor neutrophil elastase proteinas'], ['foxp3 regulatory cells control persistence viral infect'], ['superimposed high-frequency ventilation combined continuous positive airway pressure/assisted spontaneous breathing improves oxygenation patients h1n1-associated ard'], ['serious invasive saffold virus infections children 2009'], ['pandemic h1n1 2009 among quarantined close contacts beijing people republic china'], ['dengue virus infection perturbs lipid homeostasis infected mosquito cel'], ['human cardioviruses meningitis sudden infant death syndrome children'], ['knowledge avian influenza h5n1 among poultry workers hong kong china'], ['pilot study host genetic variants associated influenza-associated deaths among children young adult'], ['clinical features risk factors severe critical pregnant women 2009 pandemic h1n1 influenza infection china'], ['scientometric analysis indian research output medicine 1999–2008'], ['membrane fusion cell entry xmrv ph-independent modulated envelope glycoprotein cytoplasmic tail'], ['impact weather influenza pneumonia mortality york city 1975–2002 retrospective studi'], ['finding removing highly connected individuals using suboptimal vaccin'], ['impact media coverage transmission dynamics human influenza'], ['detection mycobacterium ulcerans loop mediated isothermal amplification method'], ['human antibody that recognizes novel cryptic epitope dengue glycoprotein'], ['lack association clec5a gene single-nucleotide polymorphisms kawasaki disease taiwanese children'], ['non-vh1-69 heterosubtypic neutralizing human monoclonal antibody protects mice h1n1 h5n1 virus'], ['web-based investigation multistate salmonellosis outbreak'], ['dengue fever hawaii 2001–2002'], ['estimating sars incubation period'], ['syndromic surveil'], ['human metapneumovirus severity respiratory syncytial virus diseas'], ['community responses communication campaigns influenza h1n1 focus group studi'], ['quantifying type-specific reproduction numbers nosocomial pathogens evidence heightened transmission asian sequence type mrsa clon'], ['discovery genomic characterization novel sapovirus unusual genomic features phylogenetic posit'], ['angiotensin converting enzyme ace2 bind integrins ace2 regulates integrin signal'], ['altered thymic function interferon therapy hcv-infected pati'], ['baculovirus-based vaccine displaying respiratory syncytial virus glycoprotein induces protective immunity infection without vaccine-enhanced diseas'], [\"divergent lineage novel hantavirus banana pipistrelle neoromicia nanus côte d'ivoir\"], ['protective immunity listeria monocytogenes infection mediated recombinant listeria innocua harboring locus'], ['transcriptomics vitro immune-stimulated hemocytes manila clam ruditapes philippinarum using high-throughput sequenc'], ['distribution risk factors 2009 pandemic influenza h1n1 mainland china'], ['replication neurotropism pathogenicity avian paramyxovirus serotypes chickens duck'], ['patterns influencing factor synonymous codon usage porcine circovirus'], ['development humanized antibody high therapeutic potential dengue virus typ'], ['cells leishmania infections friends fo'], ['macroevolutionary immunology role immunity diversification animal lif'], ['recent advances diagnosis treatment influenza pneumonia'], ['1,3-diphenyl-4,5-dihydro-1h-pyrazol-5-on'], ['cea/cd3-bispecific antibody medi-565 mt111 binds nonlinear epitope full-length short splice vari'], ['high throughput screening small molecule enhancers interferon signaling pathway drive next-generation antiviral drug discoveri'], ['feline immunodeficiency virus south america'], ['chinese medicine shenfu injection heart failure systematic review meta-analysi'], ['genome stability pandemic influenza h1n1 2009 based analysis hemagglutinin neuraminidase gen'], ['severe imported malaria intensive care unit review cas'], ['controlled dose gamma irradiation sterilize allograft tendons reconstruction biomechanical clinical perspect'], ['distinct immunoregulatory cytokine pattern egyptian patients occult hepatitis infection unexplained persistently elevated liver transaminas'], ['dc-sign cd209 promoter −336 rs4804803 polymorphism associated susceptibility kawasaki diseas'], ['interferon-induced ifit2/isg54 protects mice lethal neuropathogenesi'], ['immunogenetic mechanisms driving norovirus gii.4 antigenic vari'], ['induction gadd34 necessary dsrna-dependent interferon-β production participates control chikungunya virus infect'], ['targets intracellular signaling mechanisms deoxynivalenol-induced ribosomal cleavag'], ['pilot evaluation rt-pcr/electrospray ionization mass spectrometry plex-id/flu assay influenza-positive specimen'], ['evaluation atherosclerotic lesions using dextran- mannan–dextran-coated uspio analysis pathological find'], ['il-15 participates respiratory innate immune response influenza virus infect'], ['enterovirus infection adult japan 2011'], ['screening influenza h1n1 pdm09 auckland international airport zealand'], ['immunologic changes pandemic h1n1 2009 china'], ['pandemic h1n1 2009 risk frontline health care work'], ['coronavirus hku1 children brazil 1995'], ['increased urinary angiotensin-converting enzyme renal transplant patients diabet'], ['pepmapper collaborative tool mapping epitopes affinity-selected peptid'], ['autophagy more than nonselective pathway'], ['sigma class glutathione transferase liver fluke fasciola hepatica'], ['discriminating active latent tuberculosis patients presenting community clin'], ['novel evidence recombination family cluster infections western china'], ['identifying live bird markets potential reservoirs avian influenza h5n1 virus survey northern viet cambodia'], ['porcine noroviruses related human norovirus'], ['clinical relevance discriminatory value elevated liver aminotransferase levels dengue sever'], ['directed fusion mesenchymal stem cells cardiomyocytes vsv-g facilitates stem cell program'], ['design novel dual agonists treating type-2 diabetes targeting peroxisome proliferator-activated receptors core hopping approach'], ['prognosis hospitalized patients 2009 h1n1 influenza spain influence neuraminidase inhibitor'], ['veillonella montpellierensis endocard'], ['primate-to-human retroviral transmission asia'], ['application consensus scoring principal component analysis virtual screening β-secretase bace-1'], ['2,500-year evolution term epidem'], ['human bocavirus children'], ['acute environment rather cell subset pre-commitment regulates expression human cell cytokine amphiregulin'], ['allo-sct multiple myeloma review outcomes single transplant cent'], ['sequence analysis feline coronaviruses circulating virulent/avirulent theori'], ['unc93b1 mediates innate inflammation antiviral defense liver acute murine cytomegalovirus infect'], ['bioinformatics analysis rabbit haemorrhagic disease virus genom'], ['oligonucleotide based magnetic bead capture onchocerca volvulus pool screening vector black fli'], ['prediction identification cell epitopes h5n1 influenza virus nucleoprotein chicken'], ['novel paramyxoviruses free-ranging european bat'], ['lipid rafts alzheimer disease protein-lipid interactions perturbation sign'], ['west nile virus infection killer whale texas 2007'], ['outbreak porcine epidemic diarrhea suckling piglets china'], ['differential seroprevalence human bocavirus species beijing china'], ['clarithromycin suppresses human respiratory syncytial virus infection-induced streptococcus pneumoniae adhesion cytokine production pulmonary epithelial cell lin'], ['post-transcriptional control type interferon induction porcine reproductive respiratory syndrome virus natural host cel'], ['clinical review special populations critical illness pregn'], ['paco alveolar dead space relevant /fio ratio monitoring respiratory response prone position ards patients physiological studi'], ['lung function organ dysfunctions patients requiring mechanical ventilation during 2009 influenza h1n1 pandem'], ['comparative analysis mycobacterium related actinomycetes yields insight evolution mycobacterium tuberculosis pathogenesi'], ['proteasome-dependent disruption ubiquitin ligase anaphase-promoting complex hcmv protein pul21a'], ['deciphering novel host–herpesvirus interactions virion proteom'], ['naturally-occurring genetic variants human dc-sign increase hiv-1 capture cell-transfer risk mother-to-child transmiss'], ['model hendra virus encephalitis mous'], ['ipomoelin jacalin-related lectin compact tetrameric association versatile carbohydrate binding properties regulated terminus'], ['retroviral glycoprotein trafficking incorporation virion'], ['production characterization applications toxoplasma gondii-specific polyclonal chicken yolk immunoglobulin'], ['preparation antitumor antivirus agent chemical modification α-mmc map30 momordica charantia covalent conjugation polyethyelene glycol'], ['evaluation four different systems extraction stool suspensions using ms-2 coliphage exogenous control rt-pcr inhibit'], ['analysis pathogenesis symptomatic pulmonary embolism human genom'], ['diversity roles ligas'], ['abstracts 2012'], ['molecular imaging reveals progressive pulmonary inflammation lower airways ferrets infected 2009 h1n1 pandemic influenza virus'], ['dynamics causes possible prevention hepatitis outbreak'], ['human bocaviruses significantly associated gastroenteritis results retesting archive case control studi'], ['structural origins loss catalytic activities bifunctional human lta4h revealed molecular dynamics simul'], ['molecular microscopic analysis bacteria viruses exhaled breath collected using simple impaction condensing method'], ['seasonal influenza vaccination knowledge risk perception health beliefs vaccination behaviours nurs'], ['ifn-γ signaling astrocytes protects autoimmune mediated neurological dis'], ['influence mabs formation using vitro cell-free system'], ['predictors outcome patients acute respiratory distress syndrome caused miliary tuberculosis retrospective study chongqing china'], ['symptomatic venous thromboembolism disease related infection immune dysfunct'], ['cedar virus novel henipavirus isolated australian bat'], ['host modulators h1n1 cytopathogen'], ['association receptor polymorphism cryptococcal meningitis hiv-uninfected chinese pati'], ['infectious disease transmission organ tissue transplant'], ['non-hiv pneumocystis pneumonia conventional community-acquired pneumonia guidelines estimate sever'], ['proteomic investigation falciparum vivax malaria identification surrogate protein mark'], ['novel method isolation murine clara cell secretory protein-expressing cells traces stem'], ['development real-time array simultaneous detection eight human blood-borne viral pathogen'], ['tcdc does significantly repress toxin expression clostridium difficile 630δerm'], ['childhood tuberculosis presenting haemophagocytic syndrom'], ['activation canonical bone morphogenetic protein pathway lung morphogenesis adult lung tissue repair'], ['pulmonary sequelae patient recovered swin'], ['dengue virus serotype blocks extracellular signal-regulated kinase nuclear factor-κb activation downregulate cytokine product'], ['high influenza virus infection rates mallards bred hunting camargue south fr'], ['establishment reverse genetics system studying human bocavirus human airway epithelia'], ['personal occupational public health perspectives dealing first case influenza h1n1 united arab emir'], ['human anti-ccr4 minibody gene transfer treatment cutaneous t-cell lymphoma'], ['vntr polymorphism dc-signr gene susceptibility hiv-1 infection meta-analysi'], ['toll-like receptors critical clearance brucella play different roles development adaptive immunity following aerosol challenge mic'], ['diagnostic devices isothermal nucleic acid amplif'], ['clinical characteristics pediatric hospitalizations associated 2009 pandemic influenza h1n1 northern bavaria germani'], ['pip6-pmo generation peptide-oligonucleotide conjugates with improved cardiac exon skipping activity treat'], ['clinical characteristics outcome penicillium marneffei infection among hiv-infected patients northern vietnam'], ['prospective application clinician-performed lung ultrasonography 2009 h1n1 influenza pandemic distinguishing viral bacterial pneumonia'], ['serum levels gelatinase associated lipocalin indicator inflammatory status coronary artery diseas'], ['activity based protein profiling detect serine hydrolase alterations virus infected cel'], ['murphy law—if anything wrong problems phage electron microscopi'], ['herbal products benefits limits applications chronic liver diseas'], ['identification pneumonia influenza deaths using death certificate pipelin'], ['functional analysis rift valley fever virus encoding partial trunc'], ['predictive reactive distribution vaccines antivirals cross-regional pandemic outbreak'], ['novel vaccine using nanoparticle platform present immunogenic avian influenza infect'], ['factors associated increased risk perception pandemic influenza australia'], ['blow flies were possible candidates transmission highly pathogenic h5n1 avian influenza virus 2004 outbreaks japan'], ['examining knowledge attitudes practices domestic international university students towards seasonal pandemic influenza'], ['functional gene arrays elucidating situ biodegrad'], ['functional studies ssdna binding ability marr family protein tcar staphylococcus epidermidi'], ['marine organism cell biology regulatory sequence discoveryin comparative functional genom'], ['regulated multicistronic expression technology mammalian metabolic engin'], ['production high titre disabled infectious single cycle disc microcarrier cultur'], ['diagnosis influenza viruses special reference novel h1n1 2009 influenza virus'], ['influenza from highly pathogenic h5n1 pandemic 2009 h1n1 epidemiology clinical featur'], ['lessons learned 1918–1919 influenza pandem'], ['differential effects il-12 tregs non-treg cells roles ifn-γ il-2 il-2r'], ['genetic variation gene associated susceptibility severe sepsis mort'], ['identification characterization application g-quadruplex structured aptamer cancer biomarker protein anterior gradient homolog'], ['flt3l combined rapamycin promotes cardiac allograft tolerance inducing regulatory dendritic cells allograft autophagy mic'], ['renalase expression distribution renal tissue cel'], ['virus contaminations cell cultures biotechnological view'], ['denv inhibits type production infected cells cleaving human st'], ['acute reactogenicity intramuscular immunization recombinant vesicular stomatitis virus linked production il-1β'], ['competition influenza virus genome seg'], ['oral health china trends challeng'], ['national intensive care unit capacity patient characteristics income countri'], ['influenza virus infection nonhuman prim'], ['label-free electrochemical diagnosis viral antigens genetically engineered fusion protein'], ['development plastic-based microfluidic immunosensor chip detection h1n1 influenza'], ['hepatitis vlps delivered dendritic cells tlr2 targeting lipopeptide results enhanced antibody cell-mediated respons'], ['viral metagenomic analysis bushpigs potamochoerus larvatus uganda identifies novel variants porcine parvovirus torque teno virus'], ['three-dimensional comparison tick-borne flavivirus infection mammalian tick cell lin'], ['seed servers high-performance access seed genomes annotations metabolic model'], ['2012 book abstracts postergraduate educational programm'], ['discovery targeted lc-ms/ms purified polerovirus reveals differences virus-host interactome associated altered aphid transmiss'], ['mortality severe acute respiratory infection influenza-like illness associated influenza h1n1 pdm09 argentina 2009'], ['difficile 630δerm spo0a regulates sporulation does contribute toxin production direct high-affinity binding target'], ['sodium taurocholate cotransporting polypeptide functional receptor human hepatitis virus'], ['evolutionary pattern glycosylation sites influenza virus h5n1 hemagglutinin neuraminidas'], ['niclosamide proton carrier targets acidic endosomes broad antiviral effect'], ['single native ganglioside -binding site sufficient cholera toxin bind cells complete intoxication pathway'], ['single residue substitution receptor-binding domain h5n1 hemagglutinin critical packaging pseudotyped lentiviral particl'], ['particulate matter pollution disrupts endothelial cell barrier calpain-mediated tight junction protein degrad'], ['expression nicotinic receptor alpha7 cochlear develop'], ['identification serum proteomic biomarkers early porcine reproductive respiratory syndrome prrs infect'], ['production characterization human anti-v3 monoclonal antibodies cells hiv-1 infected indian donor'], ['toxicology biodistribution shedding profile recombinant measles vaccine vector expressing hiv-1 antigens cynomolgus macaqu'], ['forty-five years marburg virus research'], ['human cytomegalovirus polymerase processivity factor ul44 modified sumo dna-dependent mann'], ['fas-deficient mice impaired alveolar neutrophil recruitment decreased expression anti-kc autoantibody complexes model acute lung injuri'], ['evolutionary dynamics interferon-induced transmembrane gene family vertebr'], ['filovirus research gabon equatorial africa experience research center heart africa'], ['reproductive number serial interval first wave influenza h1n1 pdm09 virus south africa'], ['measuring healthcare preparedness all-hazards approach'], ['presentation hemophagocytic lymphohistiocytosis novel munc 13–4 mutation masked partial therapeutic immunosuppress'], ['relative cost outcomes intensive care unit acute lung injury pandemic influenza compared etiologies single-center studi'], ['identification conserved b-cell epitope reticuloendotheliosis virus envelope protein screening phage-displayed random peptide librari'], ['lower respiratory tract infection renal transplant recipient forget metapneumovirus']]\n"
          ],
          "name": "stdout"
        }
      ]
    },
    {
      "cell_type": "code",
      "metadata": {
        "id": "Gugnj_Kkg1xi",
        "colab_type": "code",
        "colab": {}
      },
      "source": [
        "val = []\n",
        "for i in tit:\n",
        "  val.append(i[0])"
      ],
      "execution_count": 7,
      "outputs": []
    },
    {
      "cell_type": "code",
      "metadata": {
        "id": "Ih0xq_NG7_UQ",
        "colab_type": "code",
        "colab": {
          "base_uri": "https://localhost:8080/",
          "height": 54
        },
        "outputId": "c751c409-d0d3-47f1-bec6-4c10db291978"
      },
      "source": [
        "print(val[:100])"
      ],
      "execution_count": 8,
      "outputs": [
        {
          "output_type": "stream",
          "text": [
            "['clinical features culture-proven mycoplasma pneumoniae infections king abdulaziz university hospital jeddah saudi arabia', 'nitric oxide pro-inflammatory mediator lung diseas', 'surfactant protein-d pulmonary host defens', 'role endothelin-1 lung diseas', 'gene expression epithelial cells response pneumovirus infect', 'sequence requirements strand transfer nidovirus discontinuous subgenomic synthesi', 'debate transfusing normal haemoglobin levels improve outcom', '21st international symposium intensive care emergency medicine brussels belgium 20-23 march 2001', 'heme oxygenase-1 carbon monoxide pulmonary medicin', 'technical description rods real-time public health surveillance system', 'conservation polyamine regulation translational frameshifting yeast mamm', 'heterogeneous nuclear ribonucleoprotein regulates synthesis cytoplasmic virus', 'method identify domain interacting protein', 'vaccinia virus infection disrupts microtubule organization centrosome funct', 'site origin 1918 influenza pandemic public health impl', 'multi-faceted multi-versatile microarray simultaneous detection many viruses expression profil', 'herpes simplex virus type normal protein permeability lungs critically patients case pathogen', 'logistics community smallpox control contact tracing ring vaccination stochastic network model', 'protection pulmonary epithelial cells oxidative stress hmyh adenine glycosylas', 'bioinformatic mapping alkb homology domains virus', 'managing emerging infectious diseases federal system impediment effective law', 'protein secretion lactococcus lactis efficient increase overall heterologous protein product', 'detection characterization horizontal transfers prokaryotes using genomic signatur', 'comparisons substitution insertion deletion probes resequencing mutational analysis using oligonucleotide microarray', 'gene encoding sialic-acid-specific 9-o-acetylesterase found human adult testi', 'role mast cells pathogenesis pain chronic pancreat', 'recombination every abundant recombination virus single multi-cellular host infect', 'torsional restraint twist frameshifting pseudoknot', 'correcting errors synthetic consensus shuffl', 'towards standardization quality assessment using user-independent classifiers microcapillary electrophoresis trac', 'factors affecting translation programmed ribosomal frameshifting site cocksfoot mottle virus vivo', 'australian public health policy 2003 2004', 'gideon comprehensive web-based resource geographic medicin', 'globalization health', 'polysemous codon codon multiple amino acid assignment caused dual specificity trna ident', 'universal bmv-based recombination system—how search general rules recombin', 'neutrophil elastase acid-independent serine protease facilitates reovirus uncoating infection u937 promonocyte cel', 'influence locked nucleic acid residues thermodynamic properties 2′-o-methyl rna/rna heteroduplex', 'draft versus finished sequence data protein diagnostic signature develop', 'ontology immune epitopes application design broad scope database immune react', 'evaluation potential reference genes real-time rt-pcr studies atlantic salmon', 'fierce creatur', 'relevance human metapneumovirus exacerbations copd', 'bioethical implications globalization international consortium project european commiss', 'public awareness risk factors cancer among japanese general population population-based survey', 'sequence specific visual detection lamp reactions addition cationic polym', 'injection drug hiv/aids china review current situation prevention policy impl', 'development humanized monoclonal antibody therapeutic potential west nile virus', 'local public health workers perceptions toward responding influenza pandem', 'pandemics duty care whose duty car', 'epicatechins purified green camellia sinensis differentially suppress growth gender-dependent human cancer cell lin', 'markers exacerbation severity chronic obstructive pulmonary diseas', 'scientific abstract', 'society general internal medicine 28th annual meeting orleans 11–14 2005 chaos critical role generalists abstracts submissions accepted presentatioin', 'clinical vignett', 'clinical vignett', 'abstract', 'clinical vignett', 'differentially profiling low-expression transcriptomes human hepatoma using novel ssh/microarray approach', 'from functional genomics functional immunomics challenges problems reward', 'transmission patterns smallpox systematic review natural outbreaks europe north america since world', 'reliability case definitions public health surveillance assessed round-robin test methodolog', 'ventilator associated pneumonia infection control', 'sentinel surveillance human enterovirus sarawak malaysia lessons first year', '26th international symposium intensive care emergency medicine 21–24 march 2006 brussels belgium', 'model-based design growth-attenuated virus', 'delivery systems direct application sirnas induce interference rnai vivo', 'electrochemical molecular analysis without nucleic acid amplif', 'identification participants rainbow trout oncorhynchus mykiss oocyte maturation ovulation processes using cdna microarray', 'object simulation model modeling hypothetical disease epidemics epiflex', 'multiplexed genetic analysis using expanded genetic alphabet', 'antisense-induced ribosomal frameshift', 'gene archaeal α-l-fucosidase expressed translational frameshift', 'role helicases hiv-1 repl', 'mimox tool phage display based epitope map', 'endogenous cell repair chronic demyelin', 'automated identification multiple micro-organisms resequencing microarray', 'molecular dynamics simulations human formula text role modified bases mrna recognit', 'novel endonuclease post-pcr genotyping system', 'pandemic influenza preparedness ethical framework guide decision-mak', 'open lung biopsy early-stage acute respiratory distress syndrom', 'association host selectivity multi-host pathogen', 'effectiveness contact tracing emerging epidem', 'waiting time inter-country spread pandemic influenza', 'neutralizing antibody fails impact course ebola virus infection monkey', 'public health preparedness alberta systems-level studi', 'immunoregulatory allergy-associated cytokines aetiology otitis media effus', 'bench-to-bedside review critical illness-associated cognitive dysfunction mechanisms markers emerging therapeut', 'procat data analysis approach protein microarray', 'positional clustering improves computational binding site detection identifies novel cis-regulatory sites mammalian gaba receptor subunit gen', 'transmissibility highly pathogenic avian influenza commercial poultry industrialised countri', 'influenza pandemic preparedness planning tool influsim', 'immune pathways defence mechanisms honey bees apis mellifera', 'elad deubiquitinating protease expressed coli', 'mutational analysis human ceacam1 potential receptor polymorphism increasing host susceptibility bacterial infect', 'immune reconstitution inflammatory syndrome iris review common infectious manifestations treatment opt', 'global surveillance emerging influenza virus genotypes mass spectrometri', 'transmission parameters 2001 foot mouth epidemic great britain', 'efficient replication pneumonia virus mice mouse macrophage cell lin', 'designing conducting tabletop exercises assess public health preparedness manmade naturally occurring biological threat']\n"
          ],
          "name": "stdout"
        }
      ]
    },
    {
      "cell_type": "code",
      "metadata": {
        "id": "ZUi_lEkA8y9A",
        "colab_type": "code",
        "colab": {
          "base_uri": "https://localhost:8080/",
          "height": 51
        },
        "outputId": "675652a1-93c3-4452-dc1d-2212bf11baf6"
      },
      "source": [
        "import string\n",
        "exclude = set(string.punctuation)\n",
        "lemma = WordNetLemmatizer()\n",
        "nltk.download(\"wordnet\")\n",
        "def clean(doc):\n",
        "    stop_free = \" \".join([i for i in doc.lower().split() if i not in stop])\n",
        "    punc_free = ''.join(ch for ch in stop_free if ch not in exclude)\n",
        "    normalized = \" \".join(lemma.lemmatize(word) for word in punc_free.split())\n",
        "    return normalized\n",
        "\n",
        "doc_clean = [clean(doc).split() for doc in val]"
      ],
      "execution_count": null,
      "outputs": [
        {
          "output_type": "stream",
          "text": [
            "[nltk_data] Downloading package wordnet to /root/nltk_data...\n",
            "[nltk_data]   Package wordnet is already up-to-date!\n"
          ],
          "name": "stdout"
        }
      ]
    },
    {
      "cell_type": "code",
      "metadata": {
        "id": "nFwB0PyQbJOV",
        "colab_type": "code",
        "colab": {
          "base_uri": "https://localhost:8080/",
          "height": 34
        },
        "outputId": "0eb8dfa2-3dc9-4e63-c921-2809bb91b047"
      },
      "source": [
        "print(len(doc_clean))"
      ],
      "execution_count": null,
      "outputs": [
        {
          "output_type": "stream",
          "text": [
            "242108\n"
          ],
          "name": "stdout"
        }
      ]
    },
    {
      "cell_type": "code",
      "metadata": {
        "id": "CXkLHChkbezK",
        "colab_type": "code",
        "colab": {
          "base_uri": "https://localhost:8080/",
          "height": 54
        },
        "outputId": "bbbd5adc-27f9-4247-9f48-d063694baf6a"
      },
      "source": [
        "print(doc_clean[:100])"
      ],
      "execution_count": null,
      "outputs": [
        {
          "output_type": "stream",
          "text": [
            "[['clinical', 'feature', 'cultureproven', 'mycoplasma', 'pneumoniae', 'infection', 'king', 'abdulaziz', 'university', 'hospital', 'jeddah', 'saudi', 'arabia'], ['nitric', 'oxide', 'proinflammatory', 'mediator', 'lung', 'diseas'], ['surfactant', 'proteind', 'pulmonary', 'host', 'defens'], ['role', 'endothelin1', 'lung', 'diseas'], ['gene', 'expression', 'epithelial', 'cell', 'response', 'pneumovirus', 'infect'], ['sequence', 'requirement', 'strand', 'transfer', 'nidovirus', 'discontinuous', 'subgenomic', 'synthesi'], ['debate', 'transfusing', 'normal', 'haemoglobin', 'level', 'improve', 'outcom'], ['21st', 'international', 'symposium', 'intensive', 'care', 'emergency', 'medicine', 'brussels', 'belgium', '2023', 'march', '2001'], ['heme', 'oxygenase1', 'carbon', 'monoxide', 'pulmonary', 'medicin'], ['technical', 'description', 'rod', 'realtime', 'public', 'health', 'surveillance', 'system'], ['conservation', 'polyamine', 'regulation', 'translational', 'frameshifting', 'yeast', 'mamm'], ['heterogeneous', 'nuclear', 'ribonucleoprotein', 'regulates', 'synthesis', 'cytoplasmic', 'virus'], ['method', 'identify', 'domain', 'interacting', 'protein'], ['vaccinia', 'virus', 'infection', 'disrupts', 'microtubule', 'organization', 'centrosome', 'funct'], ['site', 'origin', '1918', 'influenza', 'pandemic', 'public', 'health', 'impl'], ['multifaceted', 'multiversatile', 'microarray', 'simultaneous', 'detection', 'many', 'virus', 'expression', 'profil'], ['herpes', 'simplex', 'virus', 'type', 'normal', 'protein', 'permeability', 'lung', 'critically', 'patient', 'case', 'pathogen'], ['logistics', 'community', 'smallpox', 'control', 'contact', 'tracing', 'ring', 'vaccination', 'stochastic', 'network', 'model'], ['protection', 'pulmonary', 'epithelial', 'cell', 'oxidative', 'stress', 'hmyh', 'adenine', 'glycosylas'], ['bioinformatic', 'mapping', 'alkb', 'homology', 'domain', 'virus'], ['managing', 'emerging', 'infectious', 'disease', 'federal', 'system', 'impediment', 'effective', 'law'], ['protein', 'secretion', 'lactococcus', 'lactis', 'efficient', 'increase', 'overall', 'heterologous', 'protein', 'product'], ['detection', 'characterization', 'horizontal', 'transfer', 'prokaryote', 'using', 'genomic', 'signatur'], ['comparison', 'substitution', 'insertion', 'deletion', 'probe', 'resequencing', 'mutational', 'analysis', 'using', 'oligonucleotide', 'microarray'], ['gene', 'encoding', 'sialicacidspecific', '9oacetylesterase', 'found', 'human', 'adult', 'testi'], ['role', 'mast', 'cell', 'pathogenesis', 'pain', 'chronic', 'pancreat'], ['recombination', 'every', 'abundant', 'recombination', 'virus', 'single', 'multicellular', 'host', 'infect'], ['torsional', 'restraint', 'twist', 'frameshifting', 'pseudoknot'], ['correcting', 'error', 'synthetic', 'consensus', 'shuffl'], ['towards', 'standardization', 'quality', 'assessment', 'using', 'userindependent', 'classifier', 'microcapillary', 'electrophoresis', 'trac'], ['factor', 'affecting', 'translation', 'programmed', 'ribosomal', 'frameshifting', 'site', 'cocksfoot', 'mottle', 'virus', 'vivo'], ['australian', 'public', 'health', 'policy', '2003', '2004'], ['gideon', 'comprehensive', 'webbased', 'resource', 'geographic', 'medicin'], ['globalization', 'health'], ['polysemous', 'codon', 'codon', 'multiple', 'amino', 'acid', 'assignment', 'caused', 'dual', 'specificity', 'trna', 'ident'], ['universal', 'bmvbased', 'recombination', 'system—how', 'search', 'general', 'rule', 'recombin'], ['neutrophil', 'elastase', 'acidindependent', 'serine', 'protease', 'facilitates', 'reovirus', 'uncoating', 'infection', 'u937', 'promonocyte', 'cel'], ['influence', 'locked', 'nucleic', 'acid', 'residue', 'thermodynamic', 'property', '2′omethyl', 'rnarna', 'heteroduplex'], ['draft', 'versus', 'finished', 'sequence', 'data', 'protein', 'diagnostic', 'signature', 'develop'], ['ontology', 'immune', 'epitope', 'application', 'design', 'broad', 'scope', 'database', 'immune', 'react'], ['evaluation', 'potential', 'reference', 'gene', 'realtime', 'rtpcr', 'study', 'atlantic', 'salmon'], ['fierce', 'creatur'], ['relevance', 'human', 'metapneumovirus', 'exacerbation', 'copd'], ['bioethical', 'implication', 'globalization', 'international', 'consortium', 'project', 'european', 'commiss'], ['public', 'awareness', 'risk', 'factor', 'cancer', 'among', 'japanese', 'general', 'population', 'populationbased', 'survey'], ['sequence', 'specific', 'visual', 'detection', 'lamp', 'reaction', 'addition', 'cationic', 'polym'], ['injection', 'drug', 'hivaids', 'china', 'review', 'current', 'situation', 'prevention', 'policy', 'impl'], ['development', 'humanized', 'monoclonal', 'antibody', 'therapeutic', 'potential', 'west', 'nile', 'virus'], ['local', 'public', 'health', 'worker', 'perception', 'toward', 'responding', 'influenza', 'pandem'], ['pandemic', 'duty', 'care', 'whose', 'duty', 'car'], ['epicatechins', 'purified', 'green', 'camellia', 'sinensis', 'differentially', 'suppress', 'growth', 'genderdependent', 'human', 'cancer', 'cell', 'lin'], ['marker', 'exacerbation', 'severity', 'chronic', 'obstructive', 'pulmonary', 'diseas'], ['scientific', 'abstract'], ['society', 'general', 'internal', 'medicine', '28th', 'annual', 'meeting', 'orleans', '11–14', '2005', 'chaos', 'critical', 'role', 'generalist', 'abstract', 'submission', 'accepted', 'presentatioin'], ['clinical', 'vignett'], ['clinical', 'vignett'], ['abstract'], ['clinical', 'vignett'], ['differentially', 'profiling', 'lowexpression', 'transcriptomes', 'human', 'hepatoma', 'using', 'novel', 'sshmicroarray', 'approach'], ['functional', 'genomics', 'functional', 'immunomics', 'challenge', 'problem', 'reward'], ['transmission', 'pattern', 'smallpox', 'systematic', 'review', 'natural', 'outbreak', 'europe', 'north', 'america', 'since', 'world'], ['reliability', 'case', 'definition', 'public', 'health', 'surveillance', 'assessed', 'roundrobin', 'test', 'methodolog'], ['ventilator', 'associated', 'pneumonia', 'infection', 'control'], ['sentinel', 'surveillance', 'human', 'enterovirus', 'sarawak', 'malaysia', 'lesson', 'first', 'year'], ['26th', 'international', 'symposium', 'intensive', 'care', 'emergency', 'medicine', '21–24', 'march', '2006', 'brussels', 'belgium'], ['modelbased', 'design', 'growthattenuated', 'virus'], ['delivery', 'system', 'direct', 'application', 'sirnas', 'induce', 'interference', 'rnai', 'vivo'], ['electrochemical', 'molecular', 'analysis', 'without', 'nucleic', 'acid', 'amplif'], ['identification', 'participant', 'rainbow', 'trout', 'oncorhynchus', 'mykiss', 'oocyte', 'maturation', 'ovulation', 'process', 'using', 'cdna', 'microarray'], ['object', 'simulation', 'model', 'modeling', 'hypothetical', 'disease', 'epidemic', 'epiflex'], ['multiplexed', 'genetic', 'analysis', 'using', 'expanded', 'genetic', 'alphabet'], ['antisenseinduced', 'ribosomal', 'frameshift'], ['gene', 'archaeal', 'αlfucosidase', 'expressed', 'translational', 'frameshift'], ['role', 'helicases', 'hiv1', 'repl'], ['mimox', 'tool', 'phage', 'display', 'based', 'epitope', 'map'], ['endogenous', 'cell', 'repair', 'chronic', 'demyelin'], ['automated', 'identification', 'multiple', 'microorganism', 'resequencing', 'microarray'], ['molecular', 'dynamic', 'simulation', 'human', 'formula', 'text', 'role', 'modified', 'base', 'mrna', 'recognit'], ['novel', 'endonuclease', 'postpcr', 'genotyping', 'system'], ['pandemic', 'influenza', 'preparedness', 'ethical', 'framework', 'guide', 'decisionmak'], ['open', 'lung', 'biopsy', 'earlystage', 'acute', 'respiratory', 'distress', 'syndrom'], ['association', 'host', 'selectivity', 'multihost', 'pathogen'], ['effectiveness', 'contact', 'tracing', 'emerging', 'epidem'], ['waiting', 'time', 'intercountry', 'spread', 'pandemic', 'influenza'], ['neutralizing', 'antibody', 'fails', 'impact', 'course', 'ebola', 'virus', 'infection', 'monkey'], ['public', 'health', 'preparedness', 'alberta', 'systemslevel', 'studi'], ['immunoregulatory', 'allergyassociated', 'cytokine', 'aetiology', 'otitis', 'medium', 'effus'], ['benchtobedside', 'review', 'critical', 'illnessassociated', 'cognitive', 'dysfunction', 'mechanism', 'marker', 'emerging', 'therapeut'], ['procat', 'data', 'analysis', 'approach', 'protein', 'microarray'], ['positional', 'clustering', 'improves', 'computational', 'binding', 'site', 'detection', 'identifies', 'novel', 'cisregulatory', 'site', 'mammalian', 'gaba', 'receptor', 'subunit', 'gen'], ['transmissibility', 'highly', 'pathogenic', 'avian', 'influenza', 'commercial', 'poultry', 'industrialised', 'countri'], ['influenza', 'pandemic', 'preparedness', 'planning', 'tool', 'influsim'], ['immune', 'pathway', 'defence', 'mechanism', 'honey', 'bee', 'apis', 'mellifera'], ['elad', 'deubiquitinating', 'protease', 'expressed', 'coli'], ['mutational', 'analysis', 'human', 'ceacam1', 'potential', 'receptor', 'polymorphism', 'increasing', 'host', 'susceptibility', 'bacterial', 'infect'], ['immune', 'reconstitution', 'inflammatory', 'syndrome', 'iris', 'review', 'common', 'infectious', 'manifestation', 'treatment', 'opt'], ['global', 'surveillance', 'emerging', 'influenza', 'virus', 'genotype', 'mass', 'spectrometri'], ['transmission', 'parameter', '2001', 'foot', 'mouth', 'epidemic', 'great', 'britain'], ['efficient', 'replication', 'pneumonia', 'virus', 'mouse', 'mouse', 'macrophage', 'cell', 'lin'], ['designing', 'conducting', 'tabletop', 'exercise', 'ass', 'public', 'health', 'preparedness', 'manmade', 'naturally', 'occurring', 'biological', 'threat']]\n"
          ],
          "name": "stdout"
        }
      ]
    },
    {
      "cell_type": "code",
      "metadata": {
        "id": "_mXBXmMm8Mta",
        "colab_type": "code",
        "colab": {
          "base_uri": "https://localhost:8080/",
          "height": 34
        },
        "outputId": "773f3980-8919-43f8-ecf9-4cbda38406e8"
      },
      "source": [
        "import gensim\n",
        "from gensim import corpora\n",
        "\n",
        "#0 0Creating the term dictionary of our courpus, where every unique term is assigned an index. \n",
        "dictionary = corpora.Dictionary(doc_clean)\n",
        "print(dictionary)\n",
        "# Converting list of documents (corpus) into Document Term Matrix using dictionary prepared above.\n",
        "doc_term_matrix = [dictionary.doc2bow(doc) for doc in doc_clean]"
      ],
      "execution_count": null,
      "outputs": [
        {
          "output_type": "stream",
          "text": [
            "Dictionary(93959 unique tokens: ['abdulaziz', 'arabia', 'clinical', 'cultureproven', 'feature']...)\n"
          ],
          "name": "stdout"
        }
      ]
    },
    {
      "cell_type": "code",
      "metadata": {
        "id": "8ncFqn9i8flN",
        "colab_type": "code",
        "colab": {
          "base_uri": "https://localhost:8080/",
          "height": 54
        },
        "outputId": "a09bf15b-1108-4d6f-fe33-2456e6c1cee9"
      },
      "source": [
        "Lda = gensim.models.ldamodel.LdaModel\n",
        "\n",
        "# Running and Trainign LDA model on the document term matrix.\n",
        "ldamodel = Lda(doc_term_matrix, num_topics=7, id2word = dictionary, passes=100)\n",
        "print(ldamodel.print_topics(num_topics=10, num_words=7))"
      ],
      "execution_count": null,
      "outputs": [
        {
          "output_type": "stream",
          "text": [
            "[(0, '0.051*\"coronavirus\" + 0.044*\"virus\" + 0.032*\"respiratory\" + 0.023*\"infection\" + 0.019*\"sarscov2\" + 0.017*\"viral\" + 0.014*\"novel\"'), (1, '0.034*\"pandemic\" + 0.024*\"disease\" + 0.018*\"2019\" + 0.015*\"care\" + 0.015*\"health\" + 0.015*\"china\" + 0.014*\"outbreak\"'), (2, '0.029*\"covid19\" + 0.014*\"chapter\" + 0.010*\"service\" + 0.010*\"surgical\" + 0.007*\"multiple\" + 0.006*\"activity\" + 0.005*\"enzyme\"'), (3, '0.087*\"covid19\" + 0.013*\"2020\" + 0.013*\"practice\" + 0.008*\"sarscov\" + 0.008*\"recommendation\" + 0.008*\"italian\" + 0.008*\"society\"'), (4, '0.100*\"covid19\" + 0.024*\"pandem\" + 0.016*\"health\" + 0.014*\"model\" + 0.011*\"global\" + 0.009*\"role\" + 0.009*\"emerging\"'), (5, '0.021*\"detection\" + 0.012*\"sarscov2\" + 0.011*\"using\" + 0.010*\"cell\" + 0.008*\"assay\" + 0.008*\"test\" + 0.008*\"rapid\"'), (6, '0.110*\"covid19\" + 0.056*\"patient\" + 0.018*\"covid‐19\" + 0.017*\"case\" + 0.015*\"treatment\" + 0.014*\"pati\" + 0.013*\"pneumonia\"')]\n"
          ],
          "name": "stdout"
        }
      ]
    },
    {
      "cell_type": "code",
      "metadata": {
        "id": "E8US2OIv9R7A",
        "colab_type": "code",
        "colab": {
          "base_uri": "https://localhost:8080/",
          "height": 374
        },
        "outputId": "5f21d6b7-29f5-4705-e4ca-4955e737dab0"
      },
      "source": [
        "from nltk.tokenize import RegexpTokenizer\n",
        "from nltk.corpus import stopwords\n",
        "from nltk.stem.wordnet import WordNetLemmatizer\n",
        "import string\n",
        "stop = set(stopwords.words('english'))\n",
        "from nltk.stem.porter import PorterStemmer\n",
        "from gensim import corpora, models\n",
        "import gensim\n",
        "\n",
        "tokenizer = RegexpTokenizer(r'\\w+')\n",
        "\n",
        "# create English stop words list\n",
        "en_stop = set(stopwords.words('english'))\n",
        "# Create p_stemmer of class PorterStemmer\n",
        "p_stemmer = PorterStemmer()\n",
        "    \n",
        "# create sample documents\n",
        "doc_a = \"Brocolli is good to eat. My brother likes to eat good brocolli, but not my mother.\"\n",
        "doc_b = \"My mother spends a lot of time driving my brother around to baseball practice.\"\n",
        "doc_c = \"Some health experts suggest that driving may cause increased tension and blood pressure.\"\n",
        "doc_d = \"I often feel pressure to perform well at school, but my mother never seems to drive my brother to do better.\"\n",
        "doc_e = \"Health professionals say that brocolli is good for your health.\" \n",
        "\n",
        "# compile sample documents into a list\n",
        "#doc_set = [doc_a, doc_b, doc_c, doc_d, doc_e]\n",
        "doc_set = val\n",
        "# list for tokenized documents in loop\n",
        "texts = []\n",
        "\n",
        "# loop through document list\n",
        "for i in doc_set:\n",
        "    \n",
        "    # clean and tokenize document string\n",
        "    raw = i.lower()\n",
        "    tokens = tokenizer.tokenize(raw)\n",
        "\n",
        "    # remove stop words from tokens\n",
        "    stopped_tokens = [i for i in tokens if not i in en_stop]\n",
        "    \n",
        "    # stem tokens\n",
        "    stemmed_tokens = [p_stemmer.stem(i) for i in stopped_tokens]\n",
        "    \n",
        "    # add tokens to list\n",
        "    texts.append(stemmed_tokens)\n",
        "\n",
        "# turn our tokenized documents into a id <-> term dictionary\n",
        "dictionary = corpora.Dictionary(texts)\n",
        "    \n",
        "# convert tokenized documents into a document-term matrix\n",
        "corpus = [dictionary.doc2bow(text) for text in texts]\n",
        "\n",
        "# generate LDA model\n",
        "ldamodel = gensim.models.ldamodel.LdaModel(corpus, num_topics=7, id2word = dictionary, passes=100)"
      ],
      "execution_count": null,
      "outputs": [
        {
          "output_type": "error",
          "ename": "KeyboardInterrupt",
          "evalue": "ignored",
          "traceback": [
            "\u001b[0;31m---------------------------------------------------------------------------\u001b[0m",
            "\u001b[0;31mKeyboardInterrupt\u001b[0m                         Traceback (most recent call last)",
            "\u001b[0;32m<ipython-input-10-b730b2b7e483>\u001b[0m in \u001b[0;36m<module>\u001b[0;34m()\u001b[0m\n\u001b[1;32m     39\u001b[0m \u001b[0;34m\u001b[0m\u001b[0m\n\u001b[1;32m     40\u001b[0m     \u001b[0;31m# stem tokens\u001b[0m\u001b[0;34m\u001b[0m\u001b[0;34m\u001b[0m\u001b[0;34m\u001b[0m\u001b[0m\n\u001b[0;32m---> 41\u001b[0;31m     \u001b[0mstemmed_tokens\u001b[0m \u001b[0;34m=\u001b[0m \u001b[0;34m[\u001b[0m\u001b[0mp_stemmer\u001b[0m\u001b[0;34m.\u001b[0m\u001b[0mstem\u001b[0m\u001b[0;34m(\u001b[0m\u001b[0mi\u001b[0m\u001b[0;34m)\u001b[0m \u001b[0;32mfor\u001b[0m \u001b[0mi\u001b[0m \u001b[0;32min\u001b[0m \u001b[0mstopped_tokens\u001b[0m\u001b[0;34m]\u001b[0m\u001b[0;34m\u001b[0m\u001b[0;34m\u001b[0m\u001b[0m\n\u001b[0m\u001b[1;32m     42\u001b[0m \u001b[0;34m\u001b[0m\u001b[0m\n\u001b[1;32m     43\u001b[0m     \u001b[0;31m# add tokens to list\u001b[0m\u001b[0;34m\u001b[0m\u001b[0;34m\u001b[0m\u001b[0;34m\u001b[0m\u001b[0m\n",
            "\u001b[0;32m<ipython-input-10-b730b2b7e483>\u001b[0m in \u001b[0;36m<listcomp>\u001b[0;34m(.0)\u001b[0m\n\u001b[1;32m     39\u001b[0m \u001b[0;34m\u001b[0m\u001b[0m\n\u001b[1;32m     40\u001b[0m     \u001b[0;31m# stem tokens\u001b[0m\u001b[0;34m\u001b[0m\u001b[0;34m\u001b[0m\u001b[0;34m\u001b[0m\u001b[0m\n\u001b[0;32m---> 41\u001b[0;31m     \u001b[0mstemmed_tokens\u001b[0m \u001b[0;34m=\u001b[0m \u001b[0;34m[\u001b[0m\u001b[0mp_stemmer\u001b[0m\u001b[0;34m.\u001b[0m\u001b[0mstem\u001b[0m\u001b[0;34m(\u001b[0m\u001b[0mi\u001b[0m\u001b[0;34m)\u001b[0m \u001b[0;32mfor\u001b[0m \u001b[0mi\u001b[0m \u001b[0;32min\u001b[0m \u001b[0mstopped_tokens\u001b[0m\u001b[0;34m]\u001b[0m\u001b[0;34m\u001b[0m\u001b[0;34m\u001b[0m\u001b[0m\n\u001b[0m\u001b[1;32m     42\u001b[0m \u001b[0;34m\u001b[0m\u001b[0m\n\u001b[1;32m     43\u001b[0m     \u001b[0;31m# add tokens to list\u001b[0m\u001b[0;34m\u001b[0m\u001b[0;34m\u001b[0m\u001b[0;34m\u001b[0m\u001b[0m\n",
            "\u001b[0;32m/usr/local/lib/python3.6/dist-packages/nltk/stem/porter.py\u001b[0m in \u001b[0;36mstem\u001b[0;34m(self, word)\u001b[0m\n\u001b[1;32m    668\u001b[0m         \u001b[0mstem\u001b[0m \u001b[0;34m=\u001b[0m \u001b[0mself\u001b[0m\u001b[0;34m.\u001b[0m\u001b[0m_step2\u001b[0m\u001b[0;34m(\u001b[0m\u001b[0mstem\u001b[0m\u001b[0;34m)\u001b[0m\u001b[0;34m\u001b[0m\u001b[0;34m\u001b[0m\u001b[0m\n\u001b[1;32m    669\u001b[0m         \u001b[0mstem\u001b[0m \u001b[0;34m=\u001b[0m \u001b[0mself\u001b[0m\u001b[0;34m.\u001b[0m\u001b[0m_step3\u001b[0m\u001b[0;34m(\u001b[0m\u001b[0mstem\u001b[0m\u001b[0;34m)\u001b[0m\u001b[0;34m\u001b[0m\u001b[0;34m\u001b[0m\u001b[0m\n\u001b[0;32m--> 670\u001b[0;31m         \u001b[0mstem\u001b[0m \u001b[0;34m=\u001b[0m \u001b[0mself\u001b[0m\u001b[0;34m.\u001b[0m\u001b[0m_step4\u001b[0m\u001b[0;34m(\u001b[0m\u001b[0mstem\u001b[0m\u001b[0;34m)\u001b[0m\u001b[0;34m\u001b[0m\u001b[0;34m\u001b[0m\u001b[0m\n\u001b[0m\u001b[1;32m    671\u001b[0m         \u001b[0mstem\u001b[0m \u001b[0;34m=\u001b[0m \u001b[0mself\u001b[0m\u001b[0;34m.\u001b[0m\u001b[0m_step5a\u001b[0m\u001b[0;34m(\u001b[0m\u001b[0mstem\u001b[0m\u001b[0;34m)\u001b[0m\u001b[0;34m\u001b[0m\u001b[0;34m\u001b[0m\u001b[0m\n\u001b[1;32m    672\u001b[0m         \u001b[0mstem\u001b[0m \u001b[0;34m=\u001b[0m \u001b[0mself\u001b[0m\u001b[0;34m.\u001b[0m\u001b[0m_step5b\u001b[0m\u001b[0;34m(\u001b[0m\u001b[0mstem\u001b[0m\u001b[0;34m)\u001b[0m\u001b[0;34m\u001b[0m\u001b[0;34m\u001b[0m\u001b[0m\n",
            "\u001b[0;32m/usr/local/lib/python3.6/dist-packages/nltk/stem/porter.py\u001b[0m in \u001b[0;36m_step4\u001b[0;34m(self, word)\u001b[0m\n\u001b[1;32m    580\u001b[0m             \u001b[0;34m(\u001b[0m\u001b[0;34m'ible'\u001b[0m\u001b[0;34m,\u001b[0m \u001b[0;34m''\u001b[0m\u001b[0;34m,\u001b[0m \u001b[0mmeasure_gt_1\u001b[0m\u001b[0;34m)\u001b[0m\u001b[0;34m,\u001b[0m\u001b[0;34m\u001b[0m\u001b[0;34m\u001b[0m\u001b[0m\n\u001b[1;32m    581\u001b[0m             \u001b[0;34m(\u001b[0m\u001b[0;34m'ant'\u001b[0m\u001b[0;34m,\u001b[0m \u001b[0;34m''\u001b[0m\u001b[0;34m,\u001b[0m \u001b[0mmeasure_gt_1\u001b[0m\u001b[0;34m)\u001b[0m\u001b[0;34m,\u001b[0m\u001b[0;34m\u001b[0m\u001b[0;34m\u001b[0m\u001b[0m\n\u001b[0;32m--> 582\u001b[0;31m             \u001b[0;34m(\u001b[0m\u001b[0;34m'ement'\u001b[0m\u001b[0;34m,\u001b[0m \u001b[0;34m''\u001b[0m\u001b[0;34m,\u001b[0m \u001b[0mmeasure_gt_1\u001b[0m\u001b[0;34m)\u001b[0m\u001b[0;34m,\u001b[0m\u001b[0;34m\u001b[0m\u001b[0;34m\u001b[0m\u001b[0m\n\u001b[0m\u001b[1;32m    583\u001b[0m             \u001b[0;34m(\u001b[0m\u001b[0;34m'ment'\u001b[0m\u001b[0;34m,\u001b[0m \u001b[0;34m''\u001b[0m\u001b[0;34m,\u001b[0m \u001b[0mmeasure_gt_1\u001b[0m\u001b[0;34m)\u001b[0m\u001b[0;34m,\u001b[0m\u001b[0;34m\u001b[0m\u001b[0;34m\u001b[0m\u001b[0m\n\u001b[1;32m    584\u001b[0m             \u001b[0;34m(\u001b[0m\u001b[0;34m'ent'\u001b[0m\u001b[0;34m,\u001b[0m \u001b[0;34m''\u001b[0m\u001b[0;34m,\u001b[0m \u001b[0mmeasure_gt_1\u001b[0m\u001b[0;34m)\u001b[0m\u001b[0;34m,\u001b[0m\u001b[0;34m\u001b[0m\u001b[0;34m\u001b[0m\u001b[0m\n",
            "\u001b[0;31mKeyboardInterrupt\u001b[0m: "
          ]
        }
      ]
    },
    {
      "cell_type": "code",
      "metadata": {
        "id": "kdjebfbURv9a",
        "colab_type": "code",
        "colab": {
          "base_uri": "https://localhost:8080/",
          "height": 34
        },
        "outputId": "b6dc7321-c8f6-4247-e90f-b8292fa86d91"
      },
      "source": [
        "}print(ldamodel)"
      ],
      "execution_count": null,
      "outputs": [
        {
          "output_type": "stream",
          "text": [
            "LdaModel(num_terms=32, num_topics=2, decay=0.5, chunksize=2000)\n"
          ],
          "name": "stdout"
        }
      ]
    },
    {
      "cell_type": "code",
      "metadata": {
        "id": "8x3QQ13JSJ7z",
        "colab_type": "code",
        "colab": {
          "base_uri": "https://localhost:8080/",
          "height": 54
        },
        "outputId": "a51c224b-b80e-4933-afde-2845054367c5"
      },
      "source": [
        "print(ldamodel.print_topics(num_topics=5, num_words=4))\n",
        "#passes 20"
      ],
      "execution_count": null,
      "outputs": [
        {
          "output_type": "stream",
          "text": [
            "[(0, '0.144*\"covid\" + 0.141*\"19\" + 0.032*\"pandem\" + 0.032*\"patient\"'), (1, '0.038*\"sar\" + 0.033*\"cov\" + 0.028*\"2\" + 0.021*\"infect\"'), (2, '0.033*\"viru\" + 0.016*\"infect\" + 0.015*\"protein\" + 0.014*\"cell\"'), (3, '0.015*\"base\" + 0.012*\"research\" + 0.011*\"middl\" + 0.011*\"2020\"'), (4, '0.096*\"coronaviru\" + 0.021*\"novel\" + 0.010*\"mental\" + 0.009*\"surgeri\"')]\n"
          ],
          "name": "stdout"
        }
      ]
    },
    {
      "cell_type": "code",
      "metadata": {
        "id": "VwVTxE-oSPsq",
        "colab_type": "code",
        "colab": {
          "base_uri": "https://localhost:8080/",
          "height": 258
        },
        "outputId": "54744275-ffd5-4a83-c683-9ee1f6b1adb2"
      },
      "source": [
        "#passes 100\n",
        "top6 = ldamodel.print_topics(num_topics=7, num_words=7)\n",
        "print(top6)\n",
        "c = 0\n",
        "for i in top6:\n",
        "\n",
        "  c += 1\n",
        "  print(\"Topic \"+str(c))\n",
        "  print(i)"
      ],
      "execution_count": null,
      "outputs": [
        {
          "output_type": "stream",
          "text": [
            "[(0, '0.014*\"educ\" + 0.010*\"nation\" + 0.010*\"india\" + 0.010*\"nurs\" + 0.008*\"pcr\" + 0.008*\"rt\" + 0.007*\"resid\"'), (1, '0.027*\"health\" + 0.019*\"pandem\" + 0.017*\"emerg\" + 0.010*\"review\" + 0.010*\"epidem\" + 0.010*\"analysi\" + 0.010*\"outbreak\"'), (2, '0.029*\"cell\" + 0.011*\"surgeri\" + 0.011*\"porcin\" + 0.009*\"transplant\" + 0.008*\"infect\" + 0.008*\"diarrhea\" + 0.008*\"lung\"'), (3, '0.062*\"coronaviru\" + 0.033*\"viru\" + 0.018*\"protein\" + 0.018*\"novel\" + 0.013*\"vaccin\" + 0.009*\"human\" + 0.009*\"infect\"'), (4, '0.154*\"covid\" + 0.151*\"19\" + 0.029*\"patient\" + 0.028*\"pandem\" + 0.018*\"diseas\" + 0.015*\"2019\" + 0.012*\"clinic\"'), (5, '0.056*\"sar\" + 0.049*\"cov\" + 0.045*\"2\" + 0.039*\"infect\" + 0.038*\"respiratori\" + 0.021*\"syndrom\" + 0.017*\"acut\"')]\n",
            "Topic 1\n",
            "(0, '0.014*\"educ\" + 0.010*\"nation\" + 0.010*\"india\" + 0.010*\"nurs\" + 0.008*\"pcr\" + 0.008*\"rt\" + 0.007*\"resid\"')\n",
            "Topic 2\n",
            "(1, '0.027*\"health\" + 0.019*\"pandem\" + 0.017*\"emerg\" + 0.010*\"review\" + 0.010*\"epidem\" + 0.010*\"analysi\" + 0.010*\"outbreak\"')\n",
            "Topic 3\n",
            "(2, '0.029*\"cell\" + 0.011*\"surgeri\" + 0.011*\"porcin\" + 0.009*\"transplant\" + 0.008*\"infect\" + 0.008*\"diarrhea\" + 0.008*\"lung\"')\n",
            "Topic 4\n",
            "(3, '0.062*\"coronaviru\" + 0.033*\"viru\" + 0.018*\"protein\" + 0.018*\"novel\" + 0.013*\"vaccin\" + 0.009*\"human\" + 0.009*\"infect\"')\n",
            "Topic 5\n",
            "(4, '0.154*\"covid\" + 0.151*\"19\" + 0.029*\"patient\" + 0.028*\"pandem\" + 0.018*\"diseas\" + 0.015*\"2019\" + 0.012*\"clinic\"')\n",
            "Topic 6\n",
            "(5, '0.056*\"sar\" + 0.049*\"cov\" + 0.045*\"2\" + 0.039*\"infect\" + 0.038*\"respiratori\" + 0.021*\"syndrom\" + 0.017*\"acut\"')\n"
          ],
          "name": "stdout"
        }
      ]
    },
    {
      "cell_type": "code",
      "metadata": {
        "id": "3oNZoxMTyqve",
        "colab_type": "code",
        "colab": {
          "base_uri": "https://localhost:8080/",
          "height": 391
        },
        "outputId": "d6552d4c-400b-48f3-d391-161d26579439"
      },
      "source": [
        "from nltk.tokenize import RegexpTokenizer\n",
        "from nltk.corpus import stopwords\n",
        "from nltk.stem.wordnet import WordNetLemmatizer\n",
        "import string\n",
        "stop = set(stopwords.words('english'))\n",
        "from nltk.stem.porter import PorterStemmer\n",
        "from gensim import corpora, models\n",
        "import gensim\n",
        "\n",
        "tokenizer = RegexpTokenizer(r'\\w+')\n",
        "\n",
        "# create English stop words list\n",
        "en_stop = set(stopwords.words('english'))\n",
        "# Create p_stemmer of class PorterStemmer\n",
        "p_stemmer = PorterStemmer()\n",
        "    \n",
        "doc_set = val\n",
        "# list for tokenized documents in loop\n",
        "texts = []\n",
        "\n",
        "# loop through document list\n",
        "for i in doc_set:\n",
        "    \n",
        "    # clean and tokenize document string\n",
        "    raw = i.lower()\n",
        "    tokens = tokenizer.tokenize(raw)\n",
        "\n",
        "    # remove stop words from tokens\n",
        "    stopped_tokens = [i for i in tokens if not i in en_stop]\n",
        "    \n",
        "    # stem tokens\n",
        "    stemmed_tokens = [p_stemmer.stem(i) for i in stopped_tokens]\n",
        "    \n",
        "    # add tokens to list\n",
        "    texts.append(stemmed_tokens)\n",
        "\n",
        "# turn our tokenized documents into a id <-> term dictionary\n",
        "dictionary = corpora.Dictionary(texts)\n",
        "    \n",
        "# convert tokenized documents into a document-term matrix\n",
        "corpus = [dictionary.doc2bow(text) for text in texts]\n",
        "\n",
        "# generate LDA model\n",
        "ldamodel = gensim.models.ldamodel.LdaModel(corpus, num_topics=8, id2word = dictionary, passes=150)"
      ],
      "execution_count": 10,
      "outputs": [
        {
          "output_type": "error",
          "ename": "KeyboardInterrupt",
          "evalue": "ignored",
          "traceback": [
            "\u001b[0;31m---------------------------------------------------------------------------\u001b[0m",
            "\u001b[0;31mKeyboardInterrupt\u001b[0m                         Traceback (most recent call last)",
            "\u001b[0;32m<ipython-input-10-a95b6b381999>\u001b[0m in \u001b[0;36m<module>\u001b[0;34m()\u001b[0m\n\u001b[1;32m     42\u001b[0m \u001b[0;34m\u001b[0m\u001b[0m\n\u001b[1;32m     43\u001b[0m \u001b[0;31m# generate LDA model\u001b[0m\u001b[0;34m\u001b[0m\u001b[0;34m\u001b[0m\u001b[0;34m\u001b[0m\u001b[0m\n\u001b[0;32m---> 44\u001b[0;31m \u001b[0mldamodel\u001b[0m \u001b[0;34m=\u001b[0m \u001b[0mgensim\u001b[0m\u001b[0;34m.\u001b[0m\u001b[0mmodels\u001b[0m\u001b[0;34m.\u001b[0m\u001b[0mldamodel\u001b[0m\u001b[0;34m.\u001b[0m\u001b[0mLdaModel\u001b[0m\u001b[0;34m(\u001b[0m\u001b[0mcorpus\u001b[0m\u001b[0;34m,\u001b[0m \u001b[0mnum_topics\u001b[0m\u001b[0;34m=\u001b[0m\u001b[0;36m8\u001b[0m\u001b[0;34m,\u001b[0m \u001b[0mid2word\u001b[0m \u001b[0;34m=\u001b[0m \u001b[0mdictionary\u001b[0m\u001b[0;34m,\u001b[0m \u001b[0mpasses\u001b[0m\u001b[0;34m=\u001b[0m\u001b[0;36m150\u001b[0m\u001b[0;34m)\u001b[0m\u001b[0;34m\u001b[0m\u001b[0;34m\u001b[0m\u001b[0m\n\u001b[0m",
            "\u001b[0;32m/usr/local/lib/python3.6/dist-packages/gensim/models/ldamodel.py\u001b[0m in \u001b[0;36m__init__\u001b[0;34m(self, corpus, num_topics, id2word, distributed, chunksize, passes, update_every, alpha, eta, decay, offset, eval_every, iterations, gamma_threshold, minimum_probability, random_state, ns_conf, minimum_phi_value, per_word_topics, callbacks, dtype)\u001b[0m\n\u001b[1;32m    513\u001b[0m         \u001b[0;32mif\u001b[0m \u001b[0mcorpus\u001b[0m \u001b[0;32mis\u001b[0m \u001b[0;32mnot\u001b[0m \u001b[0;32mNone\u001b[0m\u001b[0;34m:\u001b[0m\u001b[0;34m\u001b[0m\u001b[0;34m\u001b[0m\u001b[0m\n\u001b[1;32m    514\u001b[0m             \u001b[0muse_numpy\u001b[0m \u001b[0;34m=\u001b[0m \u001b[0mself\u001b[0m\u001b[0;34m.\u001b[0m\u001b[0mdispatcher\u001b[0m \u001b[0;32mis\u001b[0m \u001b[0;32mnot\u001b[0m \u001b[0;32mNone\u001b[0m\u001b[0;34m\u001b[0m\u001b[0;34m\u001b[0m\u001b[0m\n\u001b[0;32m--> 515\u001b[0;31m             \u001b[0mself\u001b[0m\u001b[0;34m.\u001b[0m\u001b[0mupdate\u001b[0m\u001b[0;34m(\u001b[0m\u001b[0mcorpus\u001b[0m\u001b[0;34m,\u001b[0m \u001b[0mchunks_as_numpy\u001b[0m\u001b[0;34m=\u001b[0m\u001b[0muse_numpy\u001b[0m\u001b[0;34m)\u001b[0m\u001b[0;34m\u001b[0m\u001b[0;34m\u001b[0m\u001b[0m\n\u001b[0m\u001b[1;32m    516\u001b[0m \u001b[0;34m\u001b[0m\u001b[0m\n\u001b[1;32m    517\u001b[0m     \u001b[0;32mdef\u001b[0m \u001b[0minit_dir_prior\u001b[0m\u001b[0;34m(\u001b[0m\u001b[0mself\u001b[0m\u001b[0;34m,\u001b[0m \u001b[0mprior\u001b[0m\u001b[0;34m,\u001b[0m \u001b[0mname\u001b[0m\u001b[0;34m)\u001b[0m\u001b[0;34m:\u001b[0m\u001b[0;34m\u001b[0m\u001b[0;34m\u001b[0m\u001b[0m\n",
            "\u001b[0;32m/usr/local/lib/python3.6/dist-packages/gensim/models/ldamodel.py\u001b[0m in \u001b[0;36mupdate\u001b[0;34m(self, corpus, chunksize, decay, offset, passes, update_every, eval_every, iterations, gamma_threshold, chunks_as_numpy)\u001b[0m\n\u001b[1;32m    946\u001b[0m \u001b[0;34m\u001b[0m\u001b[0m\n\u001b[1;32m    947\u001b[0m                 \u001b[0;32mif\u001b[0m \u001b[0meval_every\u001b[0m \u001b[0;32mand\u001b[0m \u001b[0;34m(\u001b[0m\u001b[0;34m(\u001b[0m\u001b[0mreallen\u001b[0m \u001b[0;34m==\u001b[0m \u001b[0mlencorpus\u001b[0m\u001b[0;34m)\u001b[0m \u001b[0;32mor\u001b[0m \u001b[0;34m(\u001b[0m\u001b[0;34m(\u001b[0m\u001b[0mchunk_no\u001b[0m \u001b[0;34m+\u001b[0m \u001b[0;36m1\u001b[0m\u001b[0;34m)\u001b[0m \u001b[0;34m%\u001b[0m \u001b[0;34m(\u001b[0m\u001b[0meval_every\u001b[0m \u001b[0;34m*\u001b[0m \u001b[0mself\u001b[0m\u001b[0;34m.\u001b[0m\u001b[0mnumworkers\u001b[0m\u001b[0;34m)\u001b[0m \u001b[0;34m==\u001b[0m \u001b[0;36m0\u001b[0m\u001b[0;34m)\u001b[0m\u001b[0;34m)\u001b[0m\u001b[0;34m:\u001b[0m\u001b[0;34m\u001b[0m\u001b[0;34m\u001b[0m\u001b[0m\n\u001b[0;32m--> 948\u001b[0;31m                     \u001b[0mself\u001b[0m\u001b[0;34m.\u001b[0m\u001b[0mlog_perplexity\u001b[0m\u001b[0;34m(\u001b[0m\u001b[0mchunk\u001b[0m\u001b[0;34m,\u001b[0m \u001b[0mtotal_docs\u001b[0m\u001b[0;34m=\u001b[0m\u001b[0mlencorpus\u001b[0m\u001b[0;34m)\u001b[0m\u001b[0;34m\u001b[0m\u001b[0;34m\u001b[0m\u001b[0m\n\u001b[0m\u001b[1;32m    949\u001b[0m \u001b[0;34m\u001b[0m\u001b[0m\n\u001b[1;32m    950\u001b[0m                 \u001b[0;32mif\u001b[0m \u001b[0mself\u001b[0m\u001b[0;34m.\u001b[0m\u001b[0mdispatcher\u001b[0m\u001b[0;34m:\u001b[0m\u001b[0;34m\u001b[0m\u001b[0;34m\u001b[0m\u001b[0m\n",
            "\u001b[0;32m/usr/local/lib/python3.6/dist-packages/gensim/models/ldamodel.py\u001b[0m in \u001b[0;36mlog_perplexity\u001b[0;34m(self, chunk, total_docs)\u001b[0m\n\u001b[1;32m    802\u001b[0m         \u001b[0mcorpus_words\u001b[0m \u001b[0;34m=\u001b[0m \u001b[0msum\u001b[0m\u001b[0;34m(\u001b[0m\u001b[0mcnt\u001b[0m \u001b[0;32mfor\u001b[0m \u001b[0mdocument\u001b[0m \u001b[0;32min\u001b[0m \u001b[0mchunk\u001b[0m \u001b[0;32mfor\u001b[0m \u001b[0m_\u001b[0m\u001b[0;34m,\u001b[0m \u001b[0mcnt\u001b[0m \u001b[0;32min\u001b[0m \u001b[0mdocument\u001b[0m\u001b[0;34m)\u001b[0m\u001b[0;34m\u001b[0m\u001b[0;34m\u001b[0m\u001b[0m\n\u001b[1;32m    803\u001b[0m         \u001b[0msubsample_ratio\u001b[0m \u001b[0;34m=\u001b[0m \u001b[0;36m1.0\u001b[0m \u001b[0;34m*\u001b[0m \u001b[0mtotal_docs\u001b[0m \u001b[0;34m/\u001b[0m \u001b[0mlen\u001b[0m\u001b[0;34m(\u001b[0m\u001b[0mchunk\u001b[0m\u001b[0;34m)\u001b[0m\u001b[0;34m\u001b[0m\u001b[0;34m\u001b[0m\u001b[0m\n\u001b[0;32m--> 804\u001b[0;31m         \u001b[0mperwordbound\u001b[0m \u001b[0;34m=\u001b[0m \u001b[0mself\u001b[0m\u001b[0;34m.\u001b[0m\u001b[0mbound\u001b[0m\u001b[0;34m(\u001b[0m\u001b[0mchunk\u001b[0m\u001b[0;34m,\u001b[0m \u001b[0msubsample_ratio\u001b[0m\u001b[0;34m=\u001b[0m\u001b[0msubsample_ratio\u001b[0m\u001b[0;34m)\u001b[0m \u001b[0;34m/\u001b[0m \u001b[0;34m(\u001b[0m\u001b[0msubsample_ratio\u001b[0m \u001b[0;34m*\u001b[0m \u001b[0mcorpus_words\u001b[0m\u001b[0;34m)\u001b[0m\u001b[0;34m\u001b[0m\u001b[0;34m\u001b[0m\u001b[0m\n\u001b[0m\u001b[1;32m    805\u001b[0m         logger.info(\n\u001b[1;32m    806\u001b[0m             \u001b[0;34m\"%.3f per-word bound, %.1f perplexity estimate based on a held-out corpus of %i documents with %i words\"\u001b[0m\u001b[0;34m,\u001b[0m\u001b[0;34m\u001b[0m\u001b[0;34m\u001b[0m\u001b[0m\n",
            "\u001b[0;32m/usr/local/lib/python3.6/dist-packages/gensim/models/ldamodel.py\u001b[0m in \u001b[0;36mbound\u001b[0;34m(self, corpus, gamma, subsample_ratio)\u001b[0m\n\u001b[1;32m   1080\u001b[0m             \u001b[0mscore\u001b[0m \u001b[0;34m+=\u001b[0m \u001b[0mnp\u001b[0m\u001b[0;34m.\u001b[0m\u001b[0msum\u001b[0m\u001b[0;34m(\u001b[0m\u001b[0;34m(\u001b[0m\u001b[0mself\u001b[0m\u001b[0;34m.\u001b[0m\u001b[0malpha\u001b[0m \u001b[0;34m-\u001b[0m \u001b[0mgammad\u001b[0m\u001b[0;34m)\u001b[0m \u001b[0;34m*\u001b[0m \u001b[0mElogthetad\u001b[0m\u001b[0;34m)\u001b[0m\u001b[0;34m\u001b[0m\u001b[0;34m\u001b[0m\u001b[0m\n\u001b[1;32m   1081\u001b[0m             \u001b[0mscore\u001b[0m \u001b[0;34m+=\u001b[0m \u001b[0mnp\u001b[0m\u001b[0;34m.\u001b[0m\u001b[0msum\u001b[0m\u001b[0;34m(\u001b[0m\u001b[0mgammaln\u001b[0m\u001b[0;34m(\u001b[0m\u001b[0mgammad\u001b[0m\u001b[0;34m)\u001b[0m \u001b[0;34m-\u001b[0m \u001b[0mgammaln\u001b[0m\u001b[0;34m(\u001b[0m\u001b[0mself\u001b[0m\u001b[0;34m.\u001b[0m\u001b[0malpha\u001b[0m\u001b[0;34m)\u001b[0m\u001b[0;34m)\u001b[0m\u001b[0;34m\u001b[0m\u001b[0;34m\u001b[0m\u001b[0m\n\u001b[0;32m-> 1082\u001b[0;31m             \u001b[0mscore\u001b[0m \u001b[0;34m+=\u001b[0m \u001b[0mgammaln\u001b[0m\u001b[0;34m(\u001b[0m\u001b[0mnp\u001b[0m\u001b[0;34m.\u001b[0m\u001b[0msum\u001b[0m\u001b[0;34m(\u001b[0m\u001b[0mself\u001b[0m\u001b[0;34m.\u001b[0m\u001b[0malpha\u001b[0m\u001b[0;34m)\u001b[0m\u001b[0;34m)\u001b[0m \u001b[0;34m-\u001b[0m \u001b[0mgammaln\u001b[0m\u001b[0;34m(\u001b[0m\u001b[0mnp\u001b[0m\u001b[0;34m.\u001b[0m\u001b[0msum\u001b[0m\u001b[0;34m(\u001b[0m\u001b[0mgammad\u001b[0m\u001b[0;34m)\u001b[0m\u001b[0;34m)\u001b[0m\u001b[0;34m\u001b[0m\u001b[0;34m\u001b[0m\u001b[0m\n\u001b[0m\u001b[1;32m   1083\u001b[0m \u001b[0;34m\u001b[0m\u001b[0m\n\u001b[1;32m   1084\u001b[0m         \u001b[0;31m# Compensate likelihood for when `corpus` above is only a sample of the whole corpus. This ensures\u001b[0m\u001b[0;34m\u001b[0m\u001b[0;34m\u001b[0m\u001b[0;34m\u001b[0m\u001b[0m\n",
            "\u001b[0;32m<__array_function__ internals>\u001b[0m in \u001b[0;36msum\u001b[0;34m(*args, **kwargs)\u001b[0m\n",
            "\u001b[0;32m/usr/local/lib/python3.6/dist-packages/numpy/core/fromnumeric.py\u001b[0m in \u001b[0;36msum\u001b[0;34m(a, axis, dtype, out, keepdims, initial, where)\u001b[0m\n\u001b[1;32m   2227\u001b[0m \u001b[0;34m\u001b[0m\u001b[0m\n\u001b[1;32m   2228\u001b[0m     return _wrapreduction(a, np.add, 'sum', axis, dtype, out, keepdims=keepdims,\n\u001b[0;32m-> 2229\u001b[0;31m                           initial=initial, where=where)\n\u001b[0m\u001b[1;32m   2230\u001b[0m \u001b[0;34m\u001b[0m\u001b[0m\n\u001b[1;32m   2231\u001b[0m \u001b[0;34m\u001b[0m\u001b[0m\n",
            "\u001b[0;32m/usr/local/lib/python3.6/dist-packages/numpy/core/fromnumeric.py\u001b[0m in \u001b[0;36m_wrapreduction\u001b[0;34m(obj, ufunc, method, axis, dtype, out, **kwargs)\u001b[0m\n\u001b[1;32m     88\u001b[0m                 \u001b[0;32mreturn\u001b[0m \u001b[0mreduction\u001b[0m\u001b[0;34m(\u001b[0m\u001b[0maxis\u001b[0m\u001b[0;34m=\u001b[0m\u001b[0maxis\u001b[0m\u001b[0;34m,\u001b[0m \u001b[0mout\u001b[0m\u001b[0;34m=\u001b[0m\u001b[0mout\u001b[0m\u001b[0;34m,\u001b[0m \u001b[0;34m**\u001b[0m\u001b[0mpasskwargs\u001b[0m\u001b[0;34m)\u001b[0m\u001b[0;34m\u001b[0m\u001b[0;34m\u001b[0m\u001b[0m\n\u001b[1;32m     89\u001b[0m \u001b[0;34m\u001b[0m\u001b[0m\n\u001b[0;32m---> 90\u001b[0;31m     \u001b[0;32mreturn\u001b[0m \u001b[0mufunc\u001b[0m\u001b[0;34m.\u001b[0m\u001b[0mreduce\u001b[0m\u001b[0;34m(\u001b[0m\u001b[0mobj\u001b[0m\u001b[0;34m,\u001b[0m \u001b[0maxis\u001b[0m\u001b[0;34m,\u001b[0m \u001b[0mdtype\u001b[0m\u001b[0;34m,\u001b[0m \u001b[0mout\u001b[0m\u001b[0;34m,\u001b[0m \u001b[0;34m**\u001b[0m\u001b[0mpasskwargs\u001b[0m\u001b[0;34m)\u001b[0m\u001b[0;34m\u001b[0m\u001b[0;34m\u001b[0m\u001b[0m\n\u001b[0m\u001b[1;32m     91\u001b[0m \u001b[0;34m\u001b[0m\u001b[0m\n\u001b[1;32m     92\u001b[0m \u001b[0;34m\u001b[0m\u001b[0m\n",
            "\u001b[0;31mKeyboardInterrupt\u001b[0m: "
          ]
        }
      ]
    },
    {
      "cell_type": "code",
      "metadata": {
        "id": "O-fuoxjoJ-eT",
        "colab_type": "code",
        "colab": {
          "base_uri": "https://localhost:8080/",
          "height": 309
        },
        "outputId": "48d4fe64-d20c-4fe3-d67c-3556190946d2"
      },
      "source": [
        "#passes 120\n",
        "top8 = ldamodel.print_topics(num_topics=8, num_words=7)\n",
        "c = 0\n",
        "for i in top8:\n",
        "\n",
        "  c += 1\n",
        "  print(\"Topic \"+str(c))\n",
        "  print(i)"
      ],
      "execution_count": 9,
      "outputs": [
        {
          "output_type": "stream",
          "text": [
            "Topic 1\n",
            "(0, '0.173*\"covid\" + 0.170*\"19\" + 0.043*\"pandem\" + 0.017*\"patient\" + 0.013*\"review\" + 0.011*\"care\" + 0.010*\"impact\"')\n",
            "Topic 2\n",
            "(1, '0.033*\"influenza\" + 0.031*\"vaccin\" + 0.020*\"protect\" + 0.020*\"challeng\" + 0.017*\"perspect\" + 0.014*\"lesson\" + 0.012*\"pandem\"')\n",
            "Topic 3\n",
            "(2, '0.102*\"sar\" + 0.088*\"cov\" + 0.082*\"2\" + 0.021*\"infect\" + 0.012*\"social\" + 0.008*\"analysi\" + 0.006*\"work\"')\n",
            "Topic 4\n",
            "(3, '0.025*\"health\" + 0.020*\"emerg\" + 0.014*\"base\" + 0.013*\"model\" + 0.012*\"public\" + 0.011*\"infecti\" + 0.011*\"time\"')\n",
            "Topic 5\n",
            "(4, '0.037*\"patient\" + 0.033*\"infect\" + 0.033*\"respiratori\" + 0.029*\"sever\" + 0.029*\"acut\" + 0.019*\"syndrom\" + 0.019*\"clinic\"')\n",
            "Topic 6\n",
            "(5, '0.020*\"crisi\" + 0.016*\"itali\" + 0.009*\"aerosol\" + 0.008*\"beyond\" + 0.008*\"progress\" + 0.008*\"pandemia\" + 0.007*\"asthma\"')\n",
            "Topic 7\n",
            "(6, '0.118*\"coronaviru\" + 0.055*\"diseas\" + 0.043*\"2019\" + 0.034*\"novel\" + 0.024*\"respiratori\" + 0.017*\"china\" + 0.017*\"human\"')\n",
            "Topic 8\n",
            "(7, '0.038*\"viru\" + 0.020*\"protein\" + 0.019*\"cell\" + 0.013*\"infect\" + 0.013*\"viral\" + 0.012*\"immun\" + 0.011*\"activ\"')\n"
          ],
          "name": "stdout"
        }
      ]
    },
    {
      "cell_type": "code",
      "metadata": {
        "id": "7AVA1E8nwKJ2",
        "colab_type": "code",
        "colab": {
          "base_uri": "https://localhost:8080/",
          "height": 231
        },
        "outputId": "5bb18f1e-76ad-465d-d694-153dd78939cb"
      },
      "source": [
        "#passes 120\n",
        "top8 = ldamodel.print_topics(num_topics=8, num_words=7)\n",
        "c = 0\n",
        "for i in top8:\n",
        "\n",
        "  c += 1\n",
        "  print(\"Topic \"+str(c))\n",
        "  print(i)"
      ],
      "execution_count": null,
      "outputs": [
        {
          "output_type": "error",
          "ename": "NameError",
          "evalue": "ignored",
          "traceback": [
            "\u001b[0;31m---------------------------------------------------------------------------\u001b[0m",
            "\u001b[0;31mNameError\u001b[0m                                 Traceback (most recent call last)",
            "\u001b[0;32m<ipython-input-1-5d9f6fefde26>\u001b[0m in \u001b[0;36m<module>\u001b[0;34m()\u001b[0m\n\u001b[1;32m      1\u001b[0m \u001b[0;31m#passes 120\u001b[0m\u001b[0;34m\u001b[0m\u001b[0;34m\u001b[0m\u001b[0;34m\u001b[0m\u001b[0m\n\u001b[0;32m----> 2\u001b[0;31m \u001b[0mtop8\u001b[0m \u001b[0;34m=\u001b[0m \u001b[0mldamodel\u001b[0m\u001b[0;34m.\u001b[0m\u001b[0mprint_topics\u001b[0m\u001b[0;34m(\u001b[0m\u001b[0mnum_topics\u001b[0m\u001b[0;34m=\u001b[0m\u001b[0;36m8\u001b[0m\u001b[0;34m,\u001b[0m \u001b[0mnum_words\u001b[0m\u001b[0;34m=\u001b[0m\u001b[0;36m7\u001b[0m\u001b[0;34m)\u001b[0m\u001b[0;34m\u001b[0m\u001b[0;34m\u001b[0m\u001b[0m\n\u001b[0m\u001b[1;32m      3\u001b[0m \u001b[0mc\u001b[0m \u001b[0;34m=\u001b[0m \u001b[0;36m0\u001b[0m\u001b[0;34m\u001b[0m\u001b[0;34m\u001b[0m\u001b[0m\n\u001b[1;32m      4\u001b[0m \u001b[0;32mfor\u001b[0m \u001b[0mi\u001b[0m \u001b[0;32min\u001b[0m \u001b[0mtop8\u001b[0m\u001b[0;34m:\u001b[0m\u001b[0;34m\u001b[0m\u001b[0;34m\u001b[0m\u001b[0m\n\u001b[1;32m      5\u001b[0m \u001b[0;34m\u001b[0m\u001b[0m\n",
            "\u001b[0;31mNameError\u001b[0m: name 'ldamodel' is not defined"
          ]
        }
      ]
    },
    {
      "cell_type": "code",
      "metadata": {
        "id": "tulpkvJQVEj3",
        "colab_type": "code",
        "colab": {
          "base_uri": "https://localhost:8080/",
          "height": 309
        },
        "outputId": "999d9713-725b-4d6a-d6db-fbff07b18b4a"
      },
      "source": [
        "#passes 65\n",
        "top8 = ldamodel.print_topics(num_topics=8, num_words=7)\n",
        "c = 0\n",
        "for i in top8:\n",
        "\n",
        "  c += 1\n",
        "  print(\"Topic \"+str(c))\n",
        "  print(i)"
      ],
      "execution_count": null,
      "outputs": [
        {
          "output_type": "stream",
          "text": [
            "Topic 1\n",
            "(0, '0.056*\"sar\" + 0.048*\"cov\" + 0.043*\"2\" + 0.029*\"health\" + 0.019*\"pandem\" + 0.014*\"infect\" + 0.012*\"emerg\"')\n",
            "Topic 2\n",
            "(1, '0.150*\"covid\" + 0.148*\"19\" + 0.041*\"coronaviru\" + 0.029*\"pandem\" + 0.027*\"patient\" + 0.021*\"diseas\" + 0.015*\"respiratori\"')\n",
            "Topic 3\n",
            "(2, '0.021*\"2020\" + 0.008*\"neonat\" + 0.008*\"neurolog\" + 0.008*\"beyond\" + 0.008*\"travel\" + 0.007*\"women\" + 0.007*\"area\"')\n",
            "Topic 4\n",
            "(3, '0.046*\"viru\" + 0.026*\"infect\" + 0.019*\"human\" + 0.018*\"protein\" + 0.016*\"cell\" + 0.015*\"viral\" + 0.014*\"respiratori\"')\n",
            "Topic 5\n",
            "(4, '0.017*\"lung\" + 0.015*\"crisi\" + 0.015*\"transplant\" + 0.014*\"disea\" + 0.013*\"recommend\" + 0.011*\"find\" + 0.011*\"cardiovascular\"')\n",
            "Topic 6\n",
            "(5, '0.025*\"detect\" + 0.023*\"model\" + 0.023*\"use\" + 0.021*\"base\" + 0.016*\"analysi\" + 0.012*\"genom\" + 0.011*\"epidem\"')\n",
            "Topic 7\n",
            "(6, '0.026*\"report\" + 0.021*\"studi\" + 0.021*\"cancer\" + 0.020*\"case\" + 0.016*\"mental\" + 0.016*\"patient\" + 0.010*\"center\"')\n",
            "Topic 8\n",
            "(7, '0.029*\"medic\" + 0.021*\"social\" + 0.013*\"diabet\" + 0.012*\"societi\" + 0.011*\"nurs\" + 0.010*\"technolog\" + 0.010*\"educ\"')\n"
          ],
          "name": "stdout"
        }
      ]
    },
    {
      "cell_type": "code",
      "metadata": {
        "id": "3Zfvw9k7-KbV",
        "colab_type": "code",
        "colab": {
          "base_uri": "https://localhost:8080/",
          "height": 309
        },
        "outputId": "b0a52be8-9c80-4626-82ec-dabc7d9e6ffd"
      },
      "source": [
        "      #passes 75\n",
        "top8 = ldamodel.print_topics(num_topics=8, num_words=7)\n",
        "c = 0\n",
        "for i in top8:\n",
        "\n",
        "  c += 1\n",
        "  print(\"Topic \"+str(c))\n",
        "  print(i)"
      ],
      "execution_count": null,
      "outputs": [
        {
          "output_type": "stream",
          "text": [
            "Topic 1\n",
            "(0, '0.035*\"patient\" + 0.029*\"studi\" + 0.024*\"review\" + 0.023*\"clinic\" + 0.015*\"analysi\" + 0.015*\"outcom\" + 0.013*\"hospit\"')\n",
            "Topic 2\n",
            "(1, '0.041*\"viru\" + 0.023*\"protein\" + 0.022*\"infect\" + 0.022*\"cell\" + 0.018*\"human\" + 0.015*\"immun\" + 0.013*\"viral\"')\n",
            "Topic 3\n",
            "(2, '0.025*\"potenti\" + 0.021*\"drug\" + 0.016*\"disea\" + 0.015*\"therapeut\" + 0.014*\"lung\" + 0.011*\"face\" + 0.010*\"effect\"')\n",
            "Topic 4\n",
            "(3, '0.068*\"coronaviru\" + 0.039*\"diseas\" + 0.025*\"2019\" + 0.021*\"health\" + 0.019*\"outbreak\" + 0.017*\"china\" + 0.013*\"pandem\"')\n",
            "Topic 5\n",
            "(4, '0.068*\"respiratori\" + 0.045*\"infect\" + 0.038*\"sever\" + 0.038*\"acut\" + 0.037*\"syndrom\" + 0.025*\"patient\" + 0.022*\"case\"')\n",
            "Topic 6\n",
            "(5, '0.082*\"sar\" + 0.071*\"cov\" + 0.066*\"2\" + 0.015*\"infect\" + 0.014*\"health\" + 0.013*\"test\" + 0.011*\"system\"')\n",
            "Topic 7\n",
            "(6, '0.232*\"covid\" + 0.229*\"19\" + 0.051*\"pandem\" + 0.019*\"patient\" + 0.010*\"impact\" + 0.010*\"care\" + 0.007*\"time\"')\n",
            "Topic 8\n",
            "(7, '0.023*\"detect\" + 0.022*\"viru\" + 0.018*\"use\" + 0.015*\"base\" + 0.014*\"model\" + 0.014*\"analysi\" + 0.012*\"vaccin\"')\n"
          ],
          "name": "stdout"
        }
      ]
    },
    {
      "cell_type": "code",
      "metadata": {
        "id": "SH0_qB2srs9C",
        "colab_type": "code",
        "colab": {
          "base_uri": "https://localhost:8080/",
          "height": 309
        },
        "outputId": "be4e2d84-8b08-4e56-e8eb-cc532e33db4f"
      },
      "source": [
        "#passes 85\n",
        "top8 = ldamodel.print_topics(num_topics=8, num_words=7)\n",
        "c = 0\n",
        "for i in top8:\n",
        "\n",
        "  c += 1\n",
        "  print(\"Topic \"+str(c))\n",
        "  print(i)"
      ],
      "execution_count": null,
      "outputs": [
        {
          "output_type": "stream",
          "text": [
            "Topic 1\n",
            "(0, '0.057*\"sar\" + 0.049*\"cov\" + 0.046*\"2\" + 0.036*\"viru\" + 0.021*\"infect\" + 0.019*\"protein\" + 0.017*\"cell\"')\n",
            "Topic 2\n",
            "(1, '0.055*\"health\" + 0.024*\"pandem\" + 0.024*\"care\" + 0.017*\"public\" + 0.016*\"global\" + 0.014*\"unit\" + 0.013*\"healthcar\"')\n",
            "Topic 3\n",
            "(2, '0.023*\"detect\" + 0.018*\"viru\" + 0.013*\"chapter\" + 0.013*\"spike\" + 0.012*\"crisi\" + 0.010*\"infecti\" + 0.010*\"current\"')\n",
            "Topic 4\n",
            "(3, '0.036*\"patient\" + 0.034*\"respiratori\" + 0.033*\"infect\" + 0.025*\"sever\" + 0.025*\"acut\" + 0.021*\"case\" + 0.017*\"clinic\"')\n",
            "Topic 5\n",
            "(4, '0.015*\"base\" + 0.012*\"learn\" + 0.011*\"social\" + 0.011*\"studi\" + 0.011*\"lesson\" + 0.010*\"practic\" + 0.009*\"educ\"')\n",
            "Topic 6\n",
            "(5, '0.025*\"review\" + 0.019*\"analysi\" + 0.016*\"systemat\" + 0.016*\"surgeri\" + 0.011*\"effect\" + 0.011*\"meta\" + 0.011*\"felin\"')\n",
            "Topic 7\n",
            "(6, '0.088*\"coronaviru\" + 0.040*\"diseas\" + 0.021*\"novel\" + 0.019*\"china\" + 0.017*\"infect\" + 0.016*\"epidem\" + 0.015*\"model\"')\n",
            "Topic 8\n",
            "(7, '0.221*\"covid\" + 0.218*\"19\" + 0.048*\"pandem\" + 0.018*\"patient\" + 0.010*\"manag\" + 0.010*\"impact\" + 0.007*\"time\"')\n"
          ],
          "name": "stdout"
        }
      ]
    },
    {
      "cell_type": "code",
      "metadata": {
        "id": "ltLRD0ms3p3e",
        "colab_type": "code",
        "colab": {
          "base_uri": "https://localhost:8080/",
          "height": 309
        },
        "outputId": "c6b7f490-2a8b-4b85-9d75-ce5ed4756efa"
      },
      "source": [
        "#passes 30\n",
        "top8 = ldamodel.print_topics(num_topics=8, num_words=7)\n",
        "c = 0\n",
        "for i in top8:\n",
        "\n",
        "  c += 1\n",
        "  print(\"Topic \"+str(c))\n",
        "  print(i)"
      ],
      "execution_count": null,
      "outputs": [
        {
          "output_type": "stream",
          "text": [
            "Topic 1\n",
            "(0, '0.022*\"cell\" + 0.013*\"activ\" + 0.012*\"servic\" + 0.011*\"current\" + 0.011*\"regul\" + 0.010*\"induc\" + 0.008*\"cytokin\"')\n",
            "Topic 2\n",
            "(1, '0.210*\"covid\" + 0.207*\"19\" + 0.049*\"pandem\" + 0.016*\"patient\" + 0.011*\"time\" + 0.010*\"impact\" + 0.010*\"manag\"')\n",
            "Topic 3\n",
            "(2, '0.022*\"review\" + 0.021*\"analysi\" + 0.014*\"use\" + 0.013*\"patient\" + 0.012*\"systemat\" + 0.012*\"studi\" + 0.010*\"crisi\"')\n",
            "Topic 4\n",
            "(3, '0.101*\"sar\" + 0.087*\"cov\" + 0.081*\"2\" + 0.023*\"infect\" + 0.016*\"detect\" + 0.013*\"test\" + 0.009*\"assay\"')\n",
            "Topic 5\n",
            "(4, '0.020*\"middl\" + 0.018*\"east\" + 0.010*\"perform\" + 0.010*\"long\" + 0.009*\"acid\" + 0.009*\"term\" + 0.008*\"resid\"')\n",
            "Topic 6\n",
            "(5, '0.030*\"respiratori\" + 0.030*\"patient\" + 0.029*\"infect\" + 0.025*\"sever\" + 0.022*\"acut\" + 0.021*\"case\" + 0.020*\"care\"')\n",
            "Topic 7\n",
            "(6, '0.092*\"coronaviru\" + 0.063*\"diseas\" + 0.042*\"health\" + 0.033*\"2019\" + 0.018*\"novel\" + 0.018*\"outbreak\" + 0.018*\"emerg\"')\n",
            "Topic 8\n",
            "(7, '0.044*\"viru\" + 0.021*\"infect\" + 0.019*\"human\" + 0.017*\"protein\" + 0.015*\"viral\" + 0.014*\"influenza\" + 0.012*\"vaccin\"')\n"
          ],
          "name": "stdout"
        }
      ]
    },
    {
      "cell_type": "code",
      "metadata": {
        "id": "cGzPPLMS3cEC",
        "colab_type": "code",
        "colab": {
          "base_uri": "https://localhost:8080/",
          "height": 309
        },
        "outputId": "05d8658c-372c-40f2-e1da-9643b7e02fc1"
      },
      "source": [
        "#passes 40\n",
        "top8 = ldamodel.print_topics(num_topics=8, num_words=7)\n",
        "c = 0\n",
        "for i in top8:\n",
        "\n",
        "  c += 1\n",
        "  print(\"Topic \"+str(c))\n",
        "  print(i)"
      ],
      "execution_count": null,
      "outputs": [
        {
          "output_type": "stream",
          "text": [
            "Topic 1\n",
            "(0, '0.177*\"covid\" + 0.174*\"19\" + 0.045*\"pandem\" + 0.022*\"health\" + 0.017*\"2019\" + 0.014*\"emerg\" + 0.012*\"impact\"')\n",
            "Topic 2\n",
            "(1, '0.020*\"cancer\" + 0.018*\"treatment\" + 0.016*\"patient\" + 0.014*\"itali\" + 0.013*\"treat\" + 0.013*\"transplant\" + 0.010*\"effect\"')\n",
            "Topic 3\n",
            "(2, '0.101*\"sar\" + 0.087*\"cov\" + 0.081*\"2\" + 0.019*\"review\" + 0.017*\"infect\" + 0.016*\"detect\" + 0.013*\"analysi\"')\n",
            "Topic 4\n",
            "(3, '0.121*\"coronaviru\" + 0.032*\"diseas\" + 0.027*\"model\" + 0.026*\"novel\" + 0.015*\"transmiss\" + 0.012*\"learn\" + 0.011*\"base\"')\n",
            "Topic 5\n",
            "(4, '0.043*\"viru\" + 0.018*\"human\" + 0.017*\"protein\" + 0.014*\"infect\" + 0.013*\"cell\" + 0.010*\"viral\" + 0.010*\"immun\"')\n",
            "Topic 6\n",
            "(5, '0.047*\"respiratori\" + 0.038*\"infect\" + 0.034*\"patient\" + 0.026*\"sever\" + 0.026*\"acut\" + 0.026*\"syndrom\" + 0.022*\"case\"')\n",
            "Topic 7\n",
            "(6, '0.027*\"surgeri\" + 0.021*\"futur\" + 0.019*\"singl\" + 0.009*\"area\" + 0.009*\"site\" + 0.007*\"antimicrobi\" + 0.007*\"field\"')\n",
            "Topic 8\n",
            "(7, '0.015*\"medic\" + 0.015*\"influenza\" + 0.012*\"healthcar\" + 0.011*\"among\" + 0.010*\"chapter\" + 0.010*\"perspect\" + 0.010*\"studi\"')\n"
          ],
          "name": "stdout"
        }
      ]
    },
    {
      "cell_type": "code",
      "metadata": {
        "id": "2naFpiBFMCPU",
        "colab_type": "code",
        "colab": {}
      },
      "source": [
        ""
      ],
      "execution_count": null,
      "outputs": []
    }
  ]
}